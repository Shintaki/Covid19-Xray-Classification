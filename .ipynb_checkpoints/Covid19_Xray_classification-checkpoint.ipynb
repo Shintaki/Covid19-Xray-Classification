{
 "cells": [
  {
   "cell_type": "markdown",
   "metadata": {},
   "source": [
    "This project is only for learning purposes , the dataset is really limited (100 images of Covid19 infected xrays and  108 images of healthy xrays) , in this project i'm gonna try using different techniques for the sake of testing and getting familiar with multiple concepts : data augmentation , decaying learning rate , transfer learning , dropout regularization...\n",
    "\n",
    "The data distribution is the following: Total = 208 images ; Training = 144 images ; Validation = 36 images ; Test = 28 images\n",
    "\n",
    "i'll be doing this in 4 steps:\n",
    "\n",
    "-Machine learning algorithms (LogisticRegression and SVM)\n",
    "\n",
    "-a simple CNN architecture\n",
    "\n",
    "-transfer learning from VGG16 and fine-tune the output\n",
    "\n",
    "-transfer learning from ResNet50 and fine-tune output"
   ]
  },
  {
   "cell_type": "code",
   "execution_count": 83,
   "metadata": {},
   "outputs": [],
   "source": [
    "from tensorflow.keras.preprocessing.image import ImageDataGenerator\n",
    "from tensorflow.keras.applications import VGG16\n",
    "from keras.applications.resnet50 import ResNet50\n",
    "from tensorflow.keras import layers\n",
    "from tensorflow.keras.models import Model,Sequential\n",
    "from tensorflow.keras.optimizers import Adam,RMSprop,SGD\n",
    "from tensorflow.keras.utils import to_categorical\n",
    "from sklearn.preprocessing import LabelBinarizer,LabelEncoder\n",
    "from sklearn.model_selection import train_test_split\n",
    "from sklearn.metrics import classification_report\n",
    "from sklearn.linear_model import LogisticRegression\n",
    "from sklearn.svm import SVC\n",
    "from imutils import paths\n",
    "import matplotlib.pyplot as plt\n",
    "import numpy as np\n",
    "import cv2\n",
    "import os"
   ]
  },
  {
   "cell_type": "code",
   "execution_count": 84,
   "metadata": {},
   "outputs": [],
   "source": [
    "# image sizes used to train models\n",
    "IMG_WIDTH=214\n",
    "IMG_HEIGHT=214\n",
    "# initializing some hyperparameters\n",
    "INIT_LR = 1e-3\n",
    "EPOCHS = 10\n",
    "BS = 8"
   ]
  },
  {
   "cell_type": "code",
   "execution_count": 85,
   "metadata": {},
   "outputs": [
    {
     "name": "stdout",
     "output_type": "stream",
     "text": [
      "[INFO] loading train and validation images...\n",
      "X shape is : (180, 214, 214, 3)\n",
      "Y shape is : (180,)\n"
     ]
    }
   ],
   "source": [
    "# Preparing the data\n",
    "print(\"[INFO] loading train and validation images...\")\n",
    "imagePaths = list(paths.list_images('./TrainAndValid'))\n",
    "data = []\n",
    "labels = []\n",
    "# loop over the image paths\n",
    "for imagePath in imagePaths:\n",
    "    # extract the class label from the filename\n",
    "    label = imagePath.split(os.path.sep)[-2]\n",
    "    # swap color channels and resize images to 512x512\n",
    "    image = cv2.imread(imagePath)\n",
    "    image = cv2.cvtColor(image, cv2.COLOR_BGR2RGB)\n",
    "    image = cv2.resize(image, (IMG_HEIGHT, IMG_WIDTH))\n",
    "    # update the data and labels lists, respectively\n",
    "    data.append(image)\n",
    "    labels.append(label)\n",
    "# intensities to the range [0, 1]\n",
    "data = np.array(data) / 255.0\n",
    "labels = np.array(labels)\n",
    "# checking shapes\n",
    "print(\"X shape is :\",data.shape)\n",
    "print(\"Y shape is :\",labels.shape)"
   ]
  },
  {
   "cell_type": "code",
   "execution_count": 86,
   "metadata": {},
   "outputs": [],
   "source": [
    "# perform one-hot encoding on the labels\n",
    "lb = LabelBinarizer()\n",
    "labels = lb.fit_transform(labels)\n",
    "labels = to_categorical(labels)\n",
    "# partition the data into training and validation splits 70-30\n",
    "(trainX, ValidX, trainY, ValidY) = train_test_split(data, labels,test_size=0.3, stratify=labels, random_state=42)\n",
    "# initialize the training data augmentation object\n",
    "trainAug = ImageDataGenerator(rotation_range=15,fill_mode=\"nearest\")"
   ]
  },
  {
   "cell_type": "code",
   "execution_count": 87,
   "metadata": {},
   "outputs": [
    {
     "name": "stdout",
     "output_type": "stream",
     "text": [
      "Training shape is : (126, 214, 214, 3)\n",
      "Validation shape is : (54, 214, 214, 3)\n"
     ]
    }
   ],
   "source": [
    "print(\"Training shape is :\",trainX.shape)\n",
    "print(\"Validation shape is :\",ValidX.shape)"
   ]
  },
  {
   "cell_type": "code",
   "execution_count": 88,
   "metadata": {},
   "outputs": [
    {
     "name": "stdout",
     "output_type": "stream",
     "text": [
      "(126, 137388)\n",
      "(54, 137388)\n",
      "(126, 2)\n"
     ]
    }
   ],
   "source": [
    "# prepare data for Machine learning algorithms\n",
    "binaryLabels=[]\n",
    "for i,label in enumerate(labels):\n",
    "    if label[0]==1:\n",
    "        binaryLabels.append(1)\n",
    "    else:\n",
    "        binaryLabels.append(0)\n",
    "binaryLabels=np.array(binaryLabels)\n",
    "# partition the data into training and validation splits 80-20 \n",
    "(trainX_ML, ValidX_ML, trainY_ML, ValidY_ML) = train_test_split(data, binaryLabels,test_size=0.3, stratify=binaryLabels, random_state=42)\n",
    "trainX_flatten = trainX_ML.reshape(trainX_ML.shape[0], -1)\n",
    "ValidX_flatten = ValidX_ML.reshape(ValidX_ML.shape[0], -1)\n",
    "print(trainX_flatten.shape)\n",
    "print(ValidX_flatten.shape)\n",
    "print(trainY.shape)"
   ]
  },
  {
   "cell_type": "code",
   "execution_count": 105,
   "metadata": {},
   "outputs": [
    {
     "name": "stderr",
     "output_type": "stream",
     "text": [
      "D:\\Users\\Shintaki\\Anaconda3\\lib\\site-packages\\sklearn\\linear_model\\logistic.py:433: FutureWarning: Default solver will be changed to 'lbfgs' in 0.22. Specify a solver to silence this warning.\n",
      "  FutureWarning)\n"
     ]
    },
    {
     "name": "stdout",
     "output_type": "stream",
     "text": [
      "Accuracy: 0.9814814814814815\n",
      "Predictions :\n",
      "[0 1 1 0 0 0 0 1 0 1 0 0 0 0 1 0 0 0 0 1 1 1 0 1 0 1 0 1 1 1 1 0 1 0 0 1 0\n",
      " 1 1 0 1 1 0 0 1 1 1 1 1 0 0 1 1 0]\n",
      "Actual Labels :\n",
      "[0 1 1 0 0 0 0 1 0 1 0 0 0 0 1 0 0 0 0 1 1 1 0 1 0 1 0 1 1 1 1 0 0 0 0 1 0\n",
      " 1 1 0 1 1 0 0 1 1 1 1 1 0 0 1 1 0]\n"
     ]
    }
   ],
   "source": [
    "# Step 1 : Machine learning algorithms (Validation set is used for testing here (Accuracy and predictions))\n",
    "# Logistic regression classifier\n",
    "clf = LogisticRegression(random_state=0).fit(trainX_flatten, trainY_ML)\n",
    "print(\"Accuracy:\",clf.score(ValidX_flatten,ValidY_ML))\n",
    "print(\"Predictions :\")\n",
    "print(clf.predict(ValidX_flatten))\n",
    "print(\"Actual Labels :\")\n",
    "print(ValidY_ML)"
   ]
  },
  {
   "cell_type": "code",
   "execution_count": 90,
   "metadata": {},
   "outputs": [
    {
     "name": "stdout",
     "output_type": "stream",
     "text": [
      "Accuracy : 0.9814814814814815\n",
      "Predictions :\n",
      "[0 1 1 0 0 0 0 1 0 1 0 0 0 0 1 0 0 0 0 1 1 1 0 1 0 1 0 1 1 1 1 0 1 0 0 1 0\n",
      " 1 1 0 1 1 0 0 1 1 1 1 1 0 0 1 1 0]\n",
      "Actual Labels :\n",
      "[0 1 1 0 0 0 0 1 0 1 0 0 0 0 1 0 0 0 0 1 1 1 0 1 0 1 0 1 1 1 1 0 0 0 0 1 0\n",
      " 1 1 0 1 1 0 0 1 1 1 1 1 0 0 1 1 0]\n"
     ]
    }
   ],
   "source": [
    "# SVC classifier\n",
    "clf = SVC(gamma='auto')\n",
    "clf.fit(trainX_flatten, trainY_ML)\n",
    "print(\"Accuracy :\",clf.score(ValidX_flatten,ValidY_ML))\n",
    "print(\"Predictions :\")\n",
    "print(clf.predict(ValidX_flatten))\n",
    "print(\"Actual Labels :\")\n",
    "print(ValidY_ML)"
   ]
  },
  {
   "cell_type": "code",
   "execution_count": 94,
   "metadata": {},
   "outputs": [
    {
     "name": "stdout",
     "output_type": "stream",
     "text": [
      "Model: \"sequential_4\"\n",
      "_________________________________________________________________\n",
      "Layer (type)                 Output Shape              Param #   \n",
      "=================================================================\n",
      "conv2d_8 (Conv2D)            (None, 214, 214, 32)      896       \n",
      "_________________________________________________________________\n",
      "max_pooling2d_8 (MaxPooling2 (None, 27, 27, 32)        0         \n",
      "_________________________________________________________________\n",
      "conv2d_9 (Conv2D)            (None, 27, 27, 64)        18496     \n",
      "_________________________________________________________________\n",
      "max_pooling2d_9 (MaxPooling2 (None, 7, 7, 64)          0         \n",
      "_________________________________________________________________\n",
      "flatten_4 (Flatten)          (None, 3136)              0         \n",
      "_________________________________________________________________\n",
      "dense_12 (Dense)             (None, 512)               1606144   \n",
      "_________________________________________________________________\n",
      "dense_13 (Dense)             (None, 64)                32832     \n",
      "_________________________________________________________________\n",
      "dense_14 (Dense)             (None, 2)                 130       \n",
      "=================================================================\n",
      "Total params: 1,658,498\n",
      "Trainable params: 1,658,498\n",
      "Non-trainable params: 0\n",
      "_________________________________________________________________\n",
      "WARNING:tensorflow:sample_weight modes were coerced from\n",
      "  ...\n",
      "    to  \n",
      "  ['...']\n",
      "Train for 15 steps, validate on 54 samples\n",
      "Epoch 1/10\n",
      "15/15 [==============================] - 2s 134ms/step - loss: 0.6793 - accuracy: 0.6864 - val_loss: 0.4442 - val_accuracy: 0.9375\n",
      "Epoch 2/10\n",
      "15/15 [==============================] - 2s 111ms/step - loss: 0.3772 - accuracy: 0.8983 - val_loss: 0.1112 - val_accuracy: 0.9792\n",
      "Epoch 3/10\n",
      "15/15 [==============================] - 2s 110ms/step - loss: 0.0916 - accuracy: 0.9831 - val_loss: 0.0305 - val_accuracy: 0.9792\n",
      "Epoch 4/10\n",
      "15/15 [==============================] - 2s 110ms/step - loss: 0.1195 - accuracy: 0.9322 - val_loss: 0.0558 - val_accuracy: 0.9792\n",
      "Epoch 5/10\n",
      "15/15 [==============================] - 2s 112ms/step - loss: 0.0609 - accuracy: 0.9746 - val_loss: 0.0218 - val_accuracy: 1.0000\n",
      "Epoch 6/10\n",
      "15/15 [==============================] - 2s 109ms/step - loss: 0.0741 - accuracy: 0.9746 - val_loss: 0.0222 - val_accuracy: 1.0000\n",
      "Epoch 7/10\n",
      "15/15 [==============================] - 2s 108ms/step - loss: 0.0133 - accuracy: 1.0000 - val_loss: 0.0058 - val_accuracy: 1.0000\n",
      "Epoch 8/10\n",
      "15/15 [==============================] - 2s 113ms/step - loss: 0.0085 - accuracy: 1.0000 - val_loss: 0.0050 - val_accuracy: 1.0000\n",
      "Epoch 9/10\n",
      "15/15 [==============================] - 2s 113ms/step - loss: 0.0023 - accuracy: 1.0000 - val_loss: 0.0025 - val_accuracy: 1.0000\n",
      "Epoch 10/10\n",
      "15/15 [==============================] - 2s 111ms/step - loss: 0.0022 - accuracy: 1.0000 - val_loss: 0.0023 - val_accuracy: 1.0000\n"
     ]
    }
   ],
   "source": [
    "# Step 2 : a simple CNN\n",
    "model =Sequential()\n",
    "model.add(layers.Conv2D(32, (3, 3), padding=\"same\",activation='relu', input_shape=(IMG_HEIGHT, IMG_WIDTH, 3)))\n",
    "model.add(layers.MaxPooling2D((8, 8),padding=\"same\",strides=(8,8)))\n",
    "model.add(layers.Conv2D(64, (3, 3), padding=\"same\",activation='relu'))\n",
    "model.add(layers.MaxPooling2D((4, 4),padding=\"same\",strides=(4,4)))\n",
    "model.add(layers.Flatten())\n",
    "model.add(layers.Dense(512, activation='relu'))\n",
    "model.add(layers.Dense(64, activation='relu'))\n",
    "model.add(layers.Dense(2, activation=\"softmax\"))\n",
    "model.summary()\n",
    "# using Adam optimizing algorithm with decaying learning rate\n",
    "opt = Adam(lr=INIT_LR, decay=INIT_LR / EPOCHS)\n",
    "model.compile(loss=\"binary_crossentropy\", optimizer=opt,metrics=[\"accuracy\"])\n",
    "\n",
    "history1 = model.fit_generator(\n",
    "    trainAug.flow(trainX, trainY, batch_size=BS),\n",
    "    steps_per_epoch=len(trainX) // BS,\n",
    "    validation_data=(ValidX, ValidY),\n",
    "    validation_steps=len(ValidX) // BS,\n",
    "    epochs=EPOCHS)"
   ]
  },
  {
   "cell_type": "code",
   "execution_count": 95,
   "metadata": {},
   "outputs": [
    {
     "data": {
      "text/plain": [
       "<matplotlib.legend.Legend at 0x19a99212358>"
      ]
     },
     "execution_count": 95,
     "metadata": {},
     "output_type": "execute_result"
    },
    {
     "data": {
      "image/png": "[encoded data removed]",
      "text/plain": [
       "<Figure size 432x288 with 1 Axes>"
      ]
     },
     "metadata": {
      "needs_background": "light"
     },
     "output_type": "display_data"
    }
   ],
   "source": [
    "# plotting Accuracy\n",
    "plt.plot(history1.history['accuracy'], label='accuracy')\n",
    "plt.plot(history1.history['val_accuracy'], label = 'val_accuracy')\n",
    "plt.xlabel('Epoch')\n",
    "plt.ylabel('Accuracy')\n",
    "plt.legend(loc='lower right')"
   ]
  },
  {
   "cell_type": "code",
   "execution_count": 96,
   "metadata": {},
   "outputs": [
    {
     "data": {
      "text/plain": [
       "<matplotlib.legend.Legend at 0x19a99264048>"
      ]
     },
     "execution_count": 96,
     "metadata": {},
     "output_type": "execute_result"
    },
    {
     "data": {
      "image/png": "[encoded data removed]",
      "text/plain": [
       "<Figure size 432x288 with 1 Axes>"
      ]
     },
     "metadata": {
      "needs_background": "light"
     },
     "output_type": "display_data"
    }
   ],
   "source": [
    "# plotting loss\n",
    "plt.plot(history1.history['loss'], label='loss')\n",
    "plt.plot(history1.history['val_loss'], label = 'val_loss')\n",
    "plt.xlabel('Epoch')\n",
    "plt.ylabel('Accuracy')\n",
    "plt.legend(loc='lower right')"
   ]
  },
  {
   "cell_type": "code",
   "execution_count": 97,
   "metadata": {},
   "outputs": [
    {
     "name": "stdout",
     "output_type": "stream",
     "text": [
      "[INFO] loading test images...\n",
      "(28, 214, 214, 3)\n",
      "(28, 2)\n",
      "Evaluation :\n",
      "28/28 [==============================] - 0s 3ms/sample - loss: 0.1838 - accuracy: 0.9286\n",
      "Predictions :\n",
      "Test number  0  Prediction:  [9.9998546e-01 1.4557854e-05]  Label:  [1. 0.]\n",
      "Test number  1  Prediction:  [9.9951899e-01 4.8103582e-04]  Label:  [1. 0.]\n",
      "Test number  2  Prediction:  [9.9997663e-01 2.3404484e-05]  Label:  [1. 0.]\n",
      "Test number  3  Prediction:  [9.993129e-01 6.871445e-04]  Label:  [1. 0.]\n",
      "Test number  4  Prediction:  [9.999900e-01 1.003329e-05]  Label:  [1. 0.]\n",
      "Test number  5  Prediction:  [9.9993086e-01 6.9133828e-05]  Label:  [1. 0.]\n",
      "Test number  6  Prediction:  [0.01244104 0.9875589 ]  Label:  [1. 0.]\n",
      "Test number  7  Prediction:  [0.46862167 0.5313783 ]  Label:  [1. 0.]\n",
      "Test number  8  Prediction:  [9.9987042e-01 1.2955593e-04]  Label:  [1. 0.]\n",
      "Test number  9  Prediction:  [9.9999607e-01 3.9798474e-06]  Label:  [1. 0.]\n",
      "Test number  10  Prediction:  [9.9998629e-01 1.3731314e-05]  Label:  [1. 0.]\n",
      "Test number  11  Prediction:  [9.9973577e-01 2.6417436e-04]  Label:  [1. 0.]\n",
      "Test number  12  Prediction:  [9.9997973e-01 2.0321168e-05]  Label:  [1. 0.]\n",
      "Test number  13  Prediction:  [9.9994874e-01 5.1312574e-05]  Label:  [1. 0.]\n",
      "Test number  14  Prediction:  [3.6767048e-08 1.0000000e+00]  Label:  [0. 1.]\n",
      "Test number  15  Prediction:  [4.323166e-10 1.000000e+00]  Label:  [0. 1.]\n",
      "Test number  16  Prediction:  [1.7045006e-05 9.9998295e-01]  Label:  [0. 1.]\n",
      "Test number  17  Prediction:  [8.049735e-09 1.000000e+00]  Label:  [0. 1.]\n",
      "Test number  18  Prediction:  [3.002889e-08 1.000000e+00]  Label:  [0. 1.]\n",
      "Test number  19  Prediction:  [5.805246e-07 9.999994e-01]  Label:  [0. 1.]\n",
      "Test number  20  Prediction:  [7.360274e-08 9.999999e-01]  Label:  [0. 1.]\n",
      "Test number  21  Prediction:  [2.3409403e-09 1.0000000e+00]  Label:  [0. 1.]\n",
      "Test number  22  Prediction:  [5.3153566e-09 1.0000000e+00]  Label:  [0. 1.]\n",
      "Test number  23  Prediction:  [2.3636485e-08 1.0000000e+00]  Label:  [0. 1.]\n",
      "Test number  24  Prediction:  [7.898071e-10 1.000000e+00]  Label:  [0. 1.]\n",
      "Test number  25  Prediction:  [2.071672e-04 9.997929e-01]  Label:  [0. 1.]\n",
      "Test number  26  Prediction:  [1.4495167e-05 9.9998546e-01]  Label:  [0. 1.]\n",
      "Test number  27  Prediction:  [7.681873e-09 1.000000e+00]  Label:  [0. 1.]\n"
     ]
    }
   ],
   "source": [
    "# Preparing Test data\n",
    "print(\"[INFO] loading test images...\")\n",
    "testPaths = list(paths.list_images('./Test'))\n",
    "testX = []\n",
    "testY = []\n",
    "# loop over the image paths\n",
    "for imagePath in testPaths:\n",
    "    # extract the class label from the filename\n",
    "    label = imagePath.split(os.path.sep)[-2]\n",
    "    # swap color channels and resize images to 512x512\n",
    "    image = cv2.imread(imagePath)\n",
    "    image = cv2.cvtColor(image, cv2.COLOR_BGR2RGB)\n",
    "    image = cv2.resize(image, (IMG_HEIGHT, IMG_WIDTH))\n",
    "    # update the data and labels lists, respectively\n",
    "    testX.append(image)\n",
    "    testY.append(label)\n",
    "# intensities to the range [0, 1]\n",
    "testX = np.array(testX) / 255.0\n",
    "testY = np.array(testY)\n",
    "# perform one-hot encoding on the labels\n",
    "lb = LabelBinarizer()\n",
    "testY = lb.fit_transform(testY)\n",
    "testY = to_categorical(testY)\n",
    "# checking the shapes\n",
    "print(testX.shape)\n",
    "print(testY.shape)\n",
    "# Evaluating model\n",
    "print(\"Evaluation :\")\n",
    "test_loss, test_acc = model.evaluate(testX,  testY)\n",
    "# showing the predictions on the test images (14 positive images and 14 negative images)\n",
    "print(\"Predictions :\")\n",
    "Yhat=model.predict(testX)\n",
    "for i in range(len(testX)):\n",
    "    print(\"Test number \",i,\" Prediction: \",Yhat[i],\" Label: \",testY[i]) "
   ]
  },
  {
   "cell_type": "code",
   "execution_count": 98,
   "metadata": {},
   "outputs": [
    {
     "name": "stdout",
     "output_type": "stream",
     "text": [
      "Model loaded\n",
      "Model: \"model\"\n",
      "_________________________________________________________________\n",
      "Layer (type)                 Output Shape              Param #   \n",
      "=================================================================\n",
      "input_1 (InputLayer)         [(None, 214, 214, 3)]     0         \n",
      "_________________________________________________________________\n",
      "block1_conv1 (Conv2D)        (None, 214, 214, 64)      1792      \n",
      "_________________________________________________________________\n",
      "block1_conv2 (Conv2D)        (None, 214, 214, 64)      36928     \n",
      "_________________________________________________________________\n",
      "block1_pool (MaxPooling2D)   (None, 107, 107, 64)      0         \n",
      "_________________________________________________________________\n",
      "block2_conv1 (Conv2D)        (None, 107, 107, 128)     73856     \n",
      "_________________________________________________________________\n",
      "block2_conv2 (Conv2D)        (None, 107, 107, 128)     147584    \n",
      "_________________________________________________________________\n",
      "block2_pool (MaxPooling2D)   (None, 53, 53, 128)       0         \n",
      "_________________________________________________________________\n",
      "block3_conv1 (Conv2D)        (None, 53, 53, 256)       295168    \n",
      "_________________________________________________________________\n",
      "block3_conv2 (Conv2D)        (None, 53, 53, 256)       590080    \n",
      "_________________________________________________________________\n",
      "block3_conv3 (Conv2D)        (None, 53, 53, 256)       590080    \n",
      "_________________________________________________________________\n",
      "block3_pool (MaxPooling2D)   (None, 26, 26, 256)       0         \n",
      "_________________________________________________________________\n",
      "block4_conv1 (Conv2D)        (None, 26, 26, 512)       1180160   \n",
      "_________________________________________________________________\n",
      "block4_conv2 (Conv2D)        (None, 26, 26, 512)       2359808   \n",
      "_________________________________________________________________\n",
      "block4_conv3 (Conv2D)        (None, 26, 26, 512)       2359808   \n",
      "_________________________________________________________________\n",
      "block4_pool (MaxPooling2D)   (None, 13, 13, 512)       0         \n",
      "_________________________________________________________________\n",
      "block5_conv1 (Conv2D)        (None, 13, 13, 512)       2359808   \n",
      "_________________________________________________________________\n",
      "block5_conv2 (Conv2D)        (None, 13, 13, 512)       2359808   \n",
      "_________________________________________________________________\n",
      "block5_conv3 (Conv2D)        (None, 13, 13, 512)       2359808   \n",
      "_________________________________________________________________\n",
      "block5_pool (MaxPooling2D)   (None, 6, 6, 512)         0         \n",
      "_________________________________________________________________\n",
      "average_pooling2d (AveragePo (None, 2, 2, 512)         0         \n",
      "_________________________________________________________________\n",
      "flatten (Flatten)            (None, 2048)              0         \n",
      "_________________________________________________________________\n",
      "dense_15 (Dense)             (None, 64)                131136    \n",
      "_________________________________________________________________\n",
      "dense_16 (Dense)             (None, 2)                 130       \n",
      "=================================================================\n",
      "Total params: 14,845,954\n",
      "Trainable params: 131,266\n",
      "Non-trainable params: 14,714,688\n",
      "_________________________________________________________________\n",
      "WARNING:tensorflow:sample_weight modes were coerced from\n",
      "  ...\n",
      "    to  \n",
      "  ['...']\n",
      "Train for 15 steps, validate on 54 samples\n",
      "Epoch 1/10\n",
      "15/15 [==============================] - 15s 1s/step - loss: 0.5072 - accuracy: 0.7797 - val_loss: 0.2574 - val_accuracy: 0.9167\n",
      "Epoch 2/10\n",
      "15/15 [==============================] - 15s 1s/step - loss: 0.1603 - accuracy: 0.9746 - val_loss: 0.1250 - val_accuracy: 0.9583\n",
      "Epoch 3/10\n",
      "15/15 [==============================] - 16s 1s/step - loss: 0.0742 - accuracy: 0.9915 - val_loss: 0.0719 - val_accuracy: 0.9792\n",
      "Epoch 4/10\n",
      "15/15 [==============================] - 16s 1s/step - loss: 0.0489 - accuracy: 1.0000 - val_loss: 0.0609 - val_accuracy: 0.9792\n",
      "Epoch 5/10\n",
      "15/15 [==============================] - 16s 1s/step - loss: 0.0399 - accuracy: 0.9915 - val_loss: 0.0451 - val_accuracy: 0.9792\n",
      "Epoch 6/10\n",
      "15/15 [==============================] - 16s 1s/step - loss: 0.0271 - accuracy: 1.0000 - val_loss: 0.0343 - val_accuracy: 1.0000\n",
      "Epoch 7/10\n",
      "15/15 [==============================] - 16s 1s/step - loss: 0.0210 - accuracy: 1.0000 - val_loss: 0.0309 - val_accuracy: 1.0000\n",
      "Epoch 8/10\n",
      "15/15 [==============================] - 16s 1s/step - loss: 0.0169 - accuracy: 1.0000 - val_loss: 0.0261 - val_accuracy: 1.0000\n",
      "Epoch 9/10\n",
      "15/15 [==============================] - 16s 1s/step - loss: 0.0136 - accuracy: 1.0000 - val_loss: 0.0257 - val_accuracy: 1.0000\n",
      "Epoch 10/10\n",
      "15/15 [==============================] - 16s 1s/step - loss: 0.0108 - accuracy: 1.0000 - val_loss: 0.0215 - val_accuracy: 1.0000\n"
     ]
    }
   ],
   "source": [
    "# Step 3: transfer learning with VGG16\n",
    "# Loading VGG model\n",
    "baseModelVGG = VGG16(weights=\"imagenet\", include_top=False,input_tensor=layers.Input(shape=(IMG_HEIGHT, IMG_WIDTH, 3)))\n",
    "print(\"Model loaded\")\n",
    "# Putting Pool => FC => dropout => softmax on top of it\n",
    "modelVGG=baseModelVGG.output\n",
    "modelVGG=layers.AveragePooling2D((4, 4),padding=\"same\",strides=(4,4))(modelVGG)\n",
    "modelVGG=layers.Flatten()(modelVGG)\n",
    "modelVGG=layers.Dense(64, activation='relu')(modelVGG)\n",
    "modelVGG=layers.Dropout(0.5)(modelVGG)\n",
    "modelVGG=layers.Dense(2, activation=\"softmax\")(modelVGG)\n",
    "model2 = Model(inputs=baseModelVGG.input, outputs=modelVGG)\n",
    "# denying updates for VGG layers\n",
    "for layer in baseModelVGG.layers:\n",
    "    layer.trainable = False\n",
    "model2.summary()\n",
    "# using Adam optimizing algorithm with decaying learning rate\n",
    "opt = Adam(lr=INIT_LR, decay=INIT_LR / EPOCHS)\n",
    "model2.compile(loss=\"binary_crossentropy\", optimizer=opt,metrics=[\"accuracy\"])\n",
    "\n",
    "history2 = model2.fit_generator(\n",
    "    trainAug.flow(trainX, trainY, batch_size=BS),\n",
    "    steps_per_epoch=len(trainX) // BS,\n",
    "    validation_data=(ValidX, ValidY),\n",
    "    validation_steps=len(ValidX) // BS,\n",
    "    epochs=EPOCHS)"
   ]
  },
  {
   "cell_type": "code",
   "execution_count": 100,
   "metadata": {},
   "outputs": [
    {
     "data": {
      "text/plain": [
       "<matplotlib.legend.Legend at 0x19aa5aa6898>"
      ]
     },
     "execution_count": 100,
     "metadata": {},
     "output_type": "execute_result"
    },
    {
     "data": {
      "image/png": "[encoded data removed]",
      "text/plain": [
       "<Figure size 432x288 with 1 Axes>"
      ]
     },
     "metadata": {
      "needs_background": "light"
     },
     "output_type": "display_data"
    }
   ],
   "source": [
    "# plotting Accuracy\n",
    "plt.plot(history2.history['accuracy'], label='accuracy')\n",
    "plt.plot(history2.history['val_accuracy'], label = 'val_accuracy')\n",
    "plt.xlabel('Epoch')\n",
    "plt.ylabel('Accuracy')\n",
    "plt.legend(loc='lower right')"
   ]
  },
  {
   "cell_type": "code",
   "execution_count": 101,
   "metadata": {},
   "outputs": [
    {
     "data": {
      "text/plain": [
       "<matplotlib.legend.Legend at 0x19aa5d64898>"
      ]
     },
     "execution_count": 101,
     "metadata": {},
     "output_type": "execute_result"
    },
    {
     "data": {
      "image/png": "[encoded data removed]",
      "text/plain": [
       "<Figure size 432x288 with 1 Axes>"
      ]
     },
     "metadata": {
      "needs_background": "light"
     },
     "output_type": "display_data"
    }
   ],
   "source": [
    "plt.plot(history2.history['loss'], label='loss')\n",
    "plt.plot(history2.history['val_loss'], label = 'val_loss')\n",
    "plt.xlabel('Epoch')\n",
    "plt.ylabel('Accuracy')\n",
    "plt.legend(loc='lower right')"
   ]
  },
  {
   "cell_type": "code",
   "execution_count": 102,
   "metadata": {},
   "outputs": [
    {
     "name": "stdout",
     "output_type": "stream",
     "text": [
      "28/28 [==============================] - 0s 3ms/sample - loss: 0.1838 - accuracy: 0.9286\n",
      "Test number  0  Prediction: [ 0.9999854564666748   1.4557854228769429e-05 ] Label:  [1. 0.]\n",
      "Test number  1  Prediction: [ 0.9995189905166626   0.0004810358223039657 ] Label:  [1. 0.]\n",
      "Test number  2  Prediction: [ 0.999976634979248   2.3404483727063052e-05 ] Label:  [1. 0.]\n",
      "Test number  3  Prediction: [ 0.9993128776550293   0.0006871445220895112 ] Label:  [1. 0.]\n",
      "Test number  4  Prediction: [ 0.9999899864196777   1.0033289981947746e-05 ] Label:  [1. 0.]\n",
      "Test number  5  Prediction: [ 0.9999308586120605   6.913382821949199e-05 ] Label:  [1. 0.]\n",
      "Test number  6  Prediction: [ 0.012441043742001057   0.987558901309967 ] Label:  [1. 0.]\n",
      "Test number  7  Prediction: [ 0.4686216711997986   0.5313783288002014 ] Label:  [1. 0.]\n",
      "Test number  8  Prediction: [ 0.9998704195022583   0.00012955593410879374 ] Label:  [1. 0.]\n",
      "Test number  9  Prediction: [ 0.9999960660934448   3.979847406299086e-06 ] Label:  [1. 0.]\n",
      "Test number  10  Prediction: [ 0.9999862909317017   1.3731313629250508e-05 ] Label:  [1. 0.]\n",
      "Test number  11  Prediction: [ 0.9997357726097107   0.00026417436311021447 ] Label:  [1. 0.]\n",
      "Test number  12  Prediction: [ 0.9999797344207764   2.0321167539805174e-05 ] Label:  [1. 0.]\n",
      "Test number  13  Prediction: [ 0.9999487400054932   5.1312574214534834e-05 ] Label:  [1. 0.]\n",
      "Test number  14  Prediction: [ 3.67670480727611e-08   1.0 ] Label:  [0. 1.]\n",
      "Test number  15  Prediction: [ 4.3231659918596677e-10   1.0 ] Label:  [0. 1.]\n",
      "Test number  16  Prediction: [ 1.704500573396217e-05   0.9999829530715942 ] Label:  [0. 1.]\n",
      "Test number  17  Prediction: [ 8.049735100712496e-09   1.0 ] Label:  [0. 1.]\n",
      "Test number  18  Prediction: [ 3.002888959713346e-08   1.0 ] Label:  [0. 1.]\n",
      "Test number  19  Prediction: [ 5.805246132695174e-07   0.9999994039535522 ] Label:  [0. 1.]\n",
      "Test number  20  Prediction: [ 7.360274167922398e-08   0.9999998807907104 ] Label:  [0. 1.]\n",
      "Test number  21  Prediction: [ 2.3409403304697207e-09   1.0 ] Label:  [0. 1.]\n",
      "Test number  22  Prediction: [ 5.315356599311372e-09   1.0 ] Label:  [0. 1.]\n",
      "Test number  23  Prediction: [ 2.3636484769440358e-08   1.0 ] Label:  [0. 1.]\n",
      "Test number  24  Prediction: [ 7.898071086032132e-10   1.0 ] Label:  [0. 1.]\n",
      "Test number  25  Prediction: [ 0.00020716720609925687   0.9997928738594055 ] Label:  [0. 1.]\n",
      "Test number  26  Prediction: [ 1.449516730644973e-05   0.9999854564666748 ] Label:  [0. 1.]\n",
      "Test number  27  Prediction: [ 7.681872915554777e-09   1.0 ] Label:  [0. 1.]\n"
     ]
    }
   ],
   "source": [
    "test_loss, test_acc = model.evaluate(testX,  testY)\n",
    "# showing the predictions on the test images (14 positive images and 14 negative images)\n",
    "Yhat=model.predict(testX)\n",
    "for i in range(len(testX)):\n",
    "    print(\"Test number \",i,\" Prediction: [\",float(Yhat[i][0]),\" \",float(Yhat[i][1]),\"] Label: \",testY[i]) "
   ]
  },
  {
   "cell_type": "code",
   "execution_count": 135,
   "metadata": {},
   "outputs": [
    {
     "ename": "SyntaxError",
     "evalue": "invalid syntax (<ipython-input-135-8f232d7168fa>, line 12)",
     "output_type": "error",
     "traceback": [
      "\u001b[1;36m  File \u001b[1;32m\"<ipython-input-135-8f232d7168fa>\"\u001b[1;36m, line \u001b[1;32m12\u001b[0m\n\u001b[1;33m    model3.add(layers.Dense(2,activation='softmax'))\u001b[0m\n\u001b[1;37m         ^\u001b[0m\n\u001b[1;31mSyntaxError\u001b[0m\u001b[1;31m:\u001b[0m invalid syntax\n"
     ]
    }
   ],
   "source": [
    "# Step 4: transfer learning with ResNet50\n",
    "model3 = Sequential()\n",
    "model3.add(ResNet50(include_top=False, weights='imagenet', input_shape=(IMG_HEIGHT,IMG_WIDTH,3)))\n",
    "print(\"Model loaded\")\n",
    "# FC => dropout => FC => dropout => softmax on top of it\n",
    "model3.add(restnet.output)\n",
    "model3.add(layers.Flatten())\n",
    "model3.add(layers.Dense(512,activation='relu'))\n",
    "model3.add(layers.Dropout(0.3))\n",
    "model3.add(layers.Dense(512,activation='relu'))\n",
    "model3.add(layers.Dropout(0.3)\n",
    "model3.add(layers.Dense(2,activation='softmax'))\n",
    "# Disactivate training on resnet layers\n",
    "for layer in restnet.layers:\n",
    "    layer.trainable = False\n",
    "model3.summary()\n",
    "# using Adam optimizing algorithm with decaying learning rate\n",
    "opt = Adam(lr=INIT_LR, decay=INIT_LR / EPOCHS)\n",
    "model3.compile(loss=\"binary_crossentropy\", optimizer=opt,metrics=[\"accuracy\"])\n",
    "\n",
    "history3 = model.fit_generator(\n",
    "    trainAug.flow(trainX, trainY, batch_size=BS),\n",
    "    steps_per_epoch=len(trainX) // BS,\n",
    "    validation_data=(ValidX, ValidY),\n",
    "    validation_steps=len(ValidX) // BS,\n",
    "    epochs=EPOCHS)"
   ]
  },
  {
   "cell_type": "code",
   "execution_count": null,
   "metadata": {},
   "outputs": [],
   "source": []
  }
 ],
 "metadata": {
  "kernelspec": {
   "display_name": "Python 3",
   "language": "python",
   "name": "python3"
  },
  "language_info": {
   "codemirror_mode": {
    "name": "ipython",
    "version": 3
   },
   "file_extension": ".py",
   "mimetype": "text/x-python",
   "name": "python",
   "nbconvert_exporter": "python",
   "pygments_lexer": "ipython3",
   "version": "3.7.3"
  }
 },
 "nbformat": 4,
 "nbformat_minor": 2
}
