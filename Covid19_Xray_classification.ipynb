{
 "cells": [
  {
   "cell_type": "markdown",
   "metadata": {},
   "source": [
    "This project is only for learning purposes , the dataset is really limited (100 images of Covid19 infected xrays and  108 images of healthy xrays) , in this project i'm gonna try using different techniques for the sake of testing and getting familiar with multiple concepts : data augmentation , decaying learning rate , transfer learning , dropout regularization...\n",
    "\n",
    "The data distribution is the following: Total = 208 images ; Training = 144 images ; Validation = 36 images ; Test = 28 images\n",
    "\n",
    "i'll be doing this in 4 steps:\n",
    "\n",
    "-Machine learning algorithms (LogisticRegression and SVM)\n",
    "\n",
    "-a simple CNN architecture\n",
    "\n",
    "-transfer learning from VGG16 and fine-tune the output\n",
    "\n",
    "-transfer learning from ResNet50 and fine-tune output"
   ]
  },
  {
   "cell_type": "code",
   "execution_count": 165,
   "metadata": {},
   "outputs": [],
   "source": [
    "from tensorflow.keras.preprocessing.image import ImageDataGenerator\n",
    "from tensorflow.keras.applications import VGG16\n",
    "from tensorflow.keras.applications import ResNet50\n",
    "from tensorflow.keras import layers\n",
    "from tensorflow.keras.models import Model,Sequential\n",
    "from tensorflow.keras.optimizers import Adam,RMSprop,SGD\n",
    "from tensorflow.keras.utils import to_categorical\n",
    "from sklearn.preprocessing import LabelBinarizer,LabelEncoder\n",
    "from sklearn.model_selection import train_test_split\n",
    "from sklearn.metrics import classification_report\n",
    "from sklearn.linear_model import LogisticRegression\n",
    "from sklearn.svm import SVC\n",
    "from imutils import paths\n",
    "import matplotlib.pyplot as plt\n",
    "import numpy as np\n",
    "import cv2\n",
    "import os"
   ]
  },
  {
   "cell_type": "code",
   "execution_count": 137,
   "metadata": {},
   "outputs": [],
   "source": [
    "# image sizes used to train models\n",
    "IMG_WIDTH=214\n",
    "IMG_HEIGHT=214\n",
    "# initializing some hyperparameters\n",
    "INIT_LR = 1e-3\n",
    "EPOCHS = 10\n",
    "BS = 8"
   ]
  },
  {
   "cell_type": "code",
   "execution_count": 138,
   "metadata": {},
   "outputs": [
    {
     "name": "stdout",
     "output_type": "stream",
     "text": [
      "[INFO] loading train and validation images...\n",
      "X shape is : (180, 214, 214, 3)\n",
      "Y shape is : (180,)\n"
     ]
    }
   ],
   "source": [
    "# Preparing the data\n",
    "print(\"[INFO] loading train and validation images...\")\n",
    "imagePaths = list(paths.list_images('./TrainAndValid'))\n",
    "data = []\n",
    "labels = []\n",
    "# loop over the image paths\n",
    "for imagePath in imagePaths:\n",
    "    # extract the class label from the filename\n",
    "    label = imagePath.split(os.path.sep)[-2]\n",
    "    # swap color channels and resize images to 512x512\n",
    "    image = cv2.imread(imagePath)\n",
    "    image = cv2.cvtColor(image, cv2.COLOR_BGR2RGB)\n",
    "    image = cv2.resize(image, (IMG_HEIGHT, IMG_WIDTH))\n",
    "    # update the data and labels lists, respectively\n",
    "    data.append(image)\n",
    "    labels.append(label)\n",
    "# intensities to the range [0, 1]\n",
    "data = np.array(data) / 255.0\n",
    "labels = np.array(labels)\n",
    "# checking shapes\n",
    "print(\"X shape is :\",data.shape)\n",
    "print(\"Y shape is :\",labels.shape)"
   ]
  },
  {
   "cell_type": "code",
   "execution_count": 139,
   "metadata": {},
   "outputs": [],
   "source": [
    "# perform one-hot encoding on the labels\n",
    "lb = LabelBinarizer()\n",
    "labels = lb.fit_transform(labels)\n",
    "labels = to_categorical(labels)\n",
    "# partition the data into training and validation splits 70-30\n",
    "(trainX, ValidX, trainY, ValidY) = train_test_split(data, labels,test_size=0.3, stratify=labels, random_state=42)\n",
    "# initialize the training data augmentation object\n",
    "trainAug = ImageDataGenerator(rotation_range=15,fill_mode=\"nearest\")"
   ]
  },
  {
   "cell_type": "code",
   "execution_count": 140,
   "metadata": {},
   "outputs": [
    {
     "name": "stdout",
     "output_type": "stream",
     "text": [
      "Training shape is : (126, 214, 214, 3)\n",
      "Validation shape is : (54, 214, 214, 3)\n"
     ]
    }
   ],
   "source": [
    "print(\"Training shape is :\",trainX.shape)\n",
    "print(\"Validation shape is :\",ValidX.shape)"
   ]
  },
  {
   "cell_type": "code",
   "execution_count": 141,
   "metadata": {},
   "outputs": [
    {
     "name": "stdout",
     "output_type": "stream",
     "text": [
      "(126, 137388)\n",
      "(54, 137388)\n",
      "(126, 2)\n"
     ]
    }
   ],
   "source": [
    "# prepare data for Machine learning algorithms\n",
    "binaryLabels=[]\n",
    "for i,label in enumerate(labels):\n",
    "    if label[0]==1:\n",
    "        binaryLabels.append(1)\n",
    "    else:\n",
    "        binaryLabels.append(0)\n",
    "binaryLabels=np.array(binaryLabels)\n",
    "# partition the data into training and validation splits 80-20 \n",
    "(trainX_ML, ValidX_ML, trainY_ML, ValidY_ML) = train_test_split(data, binaryLabels,test_size=0.3, stratify=binaryLabels, random_state=42)\n",
    "trainX_flatten = trainX_ML.reshape(trainX_ML.shape[0], -1)\n",
    "ValidX_flatten = ValidX_ML.reshape(ValidX_ML.shape[0], -1)\n",
    "print(trainX_flatten.shape)\n",
    "print(ValidX_flatten.shape)\n",
    "print(trainY.shape)"
   ]
  },
  {
   "cell_type": "code",
   "execution_count": 142,
   "metadata": {},
   "outputs": [
    {
     "name": "stderr",
     "output_type": "stream",
     "text": [
      "D:\\Users\\Shintaki\\Anaconda3\\lib\\site-packages\\sklearn\\linear_model\\logistic.py:433: FutureWarning: Default solver will be changed to 'lbfgs' in 0.22. Specify a solver to silence this warning.\n",
      "  FutureWarning)\n"
     ]
    },
    {
     "name": "stdout",
     "output_type": "stream",
     "text": [
      "Accuracy: 0.9814814814814815\n",
      "Predictions :\n",
      "[0 1 1 0 0 0 0 1 0 1 0 0 0 0 1 0 0 0 0 1 1 1 0 1 0 1 0 1 1 1 1 0 1 0 0 1 0\n",
      " 1 1 0 1 1 0 0 1 1 1 1 1 0 0 1 1 0]\n",
      "Actual Labels :\n",
      "[0 1 1 0 0 0 0 1 0 1 0 0 0 0 1 0 0 0 0 1 1 1 0 1 0 1 0 1 1 1 1 0 0 0 0 1 0\n",
      " 1 1 0 1 1 0 0 1 1 1 1 1 0 0 1 1 0]\n"
     ]
    }
   ],
   "source": [
    "# Step 1 : Machine learning algorithms (Validation set is used for testing here (Accuracy and predictions))\n",
    "# Logistic regression classifier\n",
    "clf = LogisticRegression(random_state=0).fit(trainX_flatten, trainY_ML)\n",
    "print(\"Accuracy:\",clf.score(ValidX_flatten,ValidY_ML))\n",
    "print(\"Predictions :\")\n",
    "print(clf.predict(ValidX_flatten))\n",
    "print(\"Actual Labels :\")\n",
    "print(ValidY_ML)"
   ]
  },
  {
   "cell_type": "code",
   "execution_count": 143,
   "metadata": {},
   "outputs": [
    {
     "name": "stdout",
     "output_type": "stream",
     "text": [
      "Accuracy : 0.9814814814814815\n",
      "Predictions :\n",
      "[0 1 1 0 0 0 0 1 0 1 0 0 0 0 1 0 0 0 0 1 1 1 0 1 0 1 0 1 1 1 1 0 1 0 0 1 0\n",
      " 1 1 0 1 1 0 0 1 1 1 1 1 0 0 1 1 0]\n",
      "Actual Labels :\n",
      "[0 1 1 0 0 0 0 1 0 1 0 0 0 0 1 0 0 0 0 1 1 1 0 1 0 1 0 1 1 1 1 0 0 0 0 1 0\n",
      " 1 1 0 1 1 0 0 1 1 1 1 1 0 0 1 1 0]\n"
     ]
    }
   ],
   "source": [
    "# SVC classifier\n",
    "clf = SVC(gamma='auto')\n",
    "clf.fit(trainX_flatten, trainY_ML)\n",
    "print(\"Accuracy :\",clf.score(ValidX_flatten,ValidY_ML))\n",
    "print(\"Predictions :\")\n",
    "print(clf.predict(ValidX_flatten))\n",
    "print(\"Actual Labels :\")\n",
    "print(ValidY_ML)"
   ]
  },
  {
   "cell_type": "code",
   "execution_count": 144,
   "metadata": {},
   "outputs": [
    {
     "name": "stdout",
     "output_type": "stream",
     "text": [
      "Model: \"sequential_5\"\n",
      "_________________________________________________________________\n",
      "Layer (type)                 Output Shape              Param #   \n",
      "=================================================================\n",
      "conv2d_10 (Conv2D)           (None, 214, 214, 32)      896       \n",
      "_________________________________________________________________\n",
      "max_pooling2d_10 (MaxPooling (None, 27, 27, 32)        0         \n",
      "_________________________________________________________________\n",
      "conv2d_11 (Conv2D)           (None, 27, 27, 64)        18496     \n",
      "_________________________________________________________________\n",
      "max_pooling2d_11 (MaxPooling (None, 7, 7, 64)          0         \n",
      "_________________________________________________________________\n",
      "flatten_11 (Flatten)         (None, 3136)              0         \n",
      "_________________________________________________________________\n",
      "dense_17 (Dense)             (None, 512)               1606144   \n",
      "_________________________________________________________________\n",
      "dense_18 (Dense)             (None, 64)                32832     \n",
      "_________________________________________________________________\n",
      "dense_19 (Dense)             (None, 2)                 130       \n",
      "=================================================================\n",
      "Total params: 1,658,498\n",
      "Trainable params: 1,658,498\n",
      "Non-trainable params: 0\n",
      "_________________________________________________________________\n",
      "WARNING:tensorflow:sample_weight modes were coerced from\n",
      "  ...\n",
      "    to  \n",
      "  ['...']\n",
      "Train for 15 steps, validate on 54 samples\n",
      "Epoch 1/10\n",
      "15/15 [==============================] - 2s 138ms/step - loss: 0.6892 - accuracy: 0.7119 - val_loss: 0.4070 - val_accuracy: 0.9583\n",
      "Epoch 2/10\n",
      "15/15 [==============================] - 2s 115ms/step - loss: 0.3429 - accuracy: 0.8983 - val_loss: 0.1101 - val_accuracy: 1.0000\n",
      "Epoch 3/10\n",
      "15/15 [==============================] - 2s 114ms/step - loss: 0.1574 - accuracy: 0.9153 - val_loss: 0.0670 - val_accuracy: 0.9792\n",
      "Epoch 4/10\n",
      "15/15 [==============================] - 2s 120ms/step - loss: 0.1132 - accuracy: 0.9661 - val_loss: 0.0485 - val_accuracy: 0.9792\n",
      "Epoch 5/10\n",
      "15/15 [==============================] - 2s 118ms/step - loss: 0.0516 - accuracy: 0.9915 - val_loss: 0.0129 - val_accuracy: 1.0000\n",
      "Epoch 6/10\n",
      "15/15 [==============================] - 2s 121ms/step - loss: 0.0487 - accuracy: 0.9831 - val_loss: 0.0208 - val_accuracy: 1.0000\n",
      "Epoch 7/10\n",
      "15/15 [==============================] - 2s 121ms/step - loss: 0.0316 - accuracy: 0.9831 - val_loss: 0.0038 - val_accuracy: 1.0000\n",
      "Epoch 8/10\n",
      "15/15 [==============================] - 2s 123ms/step - loss: 0.0051 - accuracy: 1.0000 - val_loss: 0.0016 - val_accuracy: 1.0000\n",
      "Epoch 9/10\n",
      "15/15 [==============================] - 2s 116ms/step - loss: 0.0025 - accuracy: 1.0000 - val_loss: 0.0037 - val_accuracy: 1.0000\n",
      "Epoch 10/10\n",
      "15/15 [==============================] - 2s 117ms/step - loss: 0.0018 - accuracy: 1.0000 - val_loss: 9.5568e-04 - val_accuracy: 1.0000\n"
     ]
    }
   ],
   "source": [
    "# Step 2 : a simple CNN\n",
    "model =Sequential()\n",
    "model.add(layers.Conv2D(32, (3, 3), padding=\"same\",activation='relu', input_shape=(IMG_HEIGHT, IMG_WIDTH, 3)))\n",
    "model.add(layers.MaxPooling2D((8, 8),padding=\"same\",strides=(8,8)))\n",
    "model.add(layers.Conv2D(64, (3, 3), padding=\"same\",activation='relu'))\n",
    "model.add(layers.MaxPooling2D((4, 4),padding=\"same\",strides=(4,4)))\n",
    "model.add(layers.Flatten())\n",
    "model.add(layers.Dense(512, activation='relu'))\n",
    "model.add(layers.Dense(64, activation='relu'))\n",
    "model.add(layers.Dense(2, activation=\"softmax\"))\n",
    "model.summary()\n",
    "# using Adam optimizing algorithm with decaying learning rate\n",
    "opt = Adam(lr=INIT_LR, decay=INIT_LR / EPOCHS)\n",
    "model.compile(loss=\"binary_crossentropy\", optimizer=opt,metrics=[\"accuracy\"])\n",
    "\n",
    "history1 = model.fit_generator(\n",
    "    trainAug.flow(trainX, trainY, batch_size=BS),\n",
    "    steps_per_epoch=len(trainX) // BS,\n",
    "    validation_data=(ValidX, ValidY),\n",
    "    validation_steps=len(ValidX) // BS,\n",
    "    epochs=EPOCHS)"
   ]
  },
  {
   "cell_type": "code",
   "execution_count": 145,
   "metadata": {},
   "outputs": [
    {
     "data": {
      "text/plain": [
       "<matplotlib.legend.Legend at 0x19ac319e7f0>"
      ]
     },
     "execution_count": 145,
     "metadata": {},
     "output_type": "execute_result"
    },
    {
     "data": {
      "image/png": "[encoded data removed]",
      "text/plain": [
       "<Figure size 432x288 with 1 Axes>"
      ]
     },
     "metadata": {
      "needs_background": "light"
     },
     "output_type": "display_data"
    }
   ],
   "source": [
    "# plotting Accuracy\n",
    "plt.plot(history1.history['accuracy'], label='accuracy')\n",
    "plt.plot(history1.history['val_accuracy'], label = 'val_accuracy')\n",
    "plt.xlabel('Epoch')\n",
    "plt.ylabel('Accuracy')\n",
    "plt.legend(loc='lower right')"
   ]
  },
  {
   "cell_type": "code",
   "execution_count": 146,
   "metadata": {},
   "outputs": [
    {
     "data": {
      "text/plain": [
       "<matplotlib.legend.Legend at 0x19ad7491fd0>"
      ]
     },
     "execution_count": 146,
     "metadata": {},
     "output_type": "execute_result"
    },
    {
     "data": {
      "image/png": "[encoded data removed]",
      "text/plain": [
       "<Figure size 432x288 with 1 Axes>"
      ]
     },
     "metadata": {
      "needs_background": "light"
     },
     "output_type": "display_data"
    }
   ],
   "source": [
    "# plotting loss\n",
    "plt.plot(history1.history['loss'], label='loss')\n",
    "plt.plot(history1.history['val_loss'], label = 'val_loss')\n",
    "plt.xlabel('Epoch')\n",
    "plt.ylabel('Accuracy')\n",
    "plt.legend(loc='lower right')"
   ]
  },
  {
   "cell_type": "code",
   "execution_count": 147,
   "metadata": {},
   "outputs": [
    {
     "name": "stdout",
     "output_type": "stream",
     "text": [
      "[INFO] loading test images...\n",
      "(28, 214, 214, 3)\n",
      "(28, 2)\n",
      "Evaluation :\n",
      "28/28 [==============================] - 0s 3ms/sample - loss: 0.0136 - accuracy: 1.0000\n",
      "Predictions :\n",
      "Test number  0  Prediction:  [9.999999e-01 9.924471e-08]  Label:  [1. 0.]\n",
      "Test number  1  Prediction:  [9.9997890e-01 2.1126742e-05]  Label:  [1. 0.]\n",
      "Test number  2  Prediction:  [9.9999988e-01 1.1207398e-07]  Label:  [1. 0.]\n",
      "Test number  3  Prediction:  [9.9996376e-01 3.6207235e-05]  Label:  [1. 0.]\n",
      "Test number  4  Prediction:  [9.999999e-01 7.354970e-08]  Label:  [1. 0.]\n",
      "Test number  5  Prediction:  [9.9999702e-01 2.9941098e-06]  Label:  [1. 0.]\n",
      "Test number  6  Prediction:  [0.8321799  0.16782016]  Label:  [1. 0.]\n",
      "Test number  7  Prediction:  [0.8210033  0.17899662]  Label:  [1. 0.]\n",
      "Test number  8  Prediction:  [9.9999344e-01 6.6113521e-06]  Label:  [1. 0.]\n",
      "Test number  9  Prediction:  [9.9999988e-01 1.3865817e-07]  Label:  [1. 0.]\n",
      "Test number  10  Prediction:  [9.9999321e-01 6.7604315e-06]  Label:  [1. 0.]\n",
      "Test number  11  Prediction:  [9.9998510e-01 1.4951352e-05]  Label:  [1. 0.]\n",
      "Test number  12  Prediction:  [9.999999e-01 1.505235e-07]  Label:  [1. 0.]\n",
      "Test number  13  Prediction:  [9.9999917e-01 8.0000905e-07]  Label:  [1. 0.]\n",
      "Test number  14  Prediction:  [7.2447924e-06 9.9999273e-01]  Label:  [0. 1.]\n",
      "Test number  15  Prediction:  [3.2968904e-07 9.9999964e-01]  Label:  [0. 1.]\n",
      "Test number  16  Prediction:  [6.0635382e-05 9.9993932e-01]  Label:  [0. 1.]\n",
      "Test number  17  Prediction:  [2.4056849e-06 9.9999762e-01]  Label:  [0. 1.]\n",
      "Test number  18  Prediction:  [5.8563041e-06 9.9999416e-01]  Label:  [0. 1.]\n",
      "Test number  19  Prediction:  [8.534633e-06 9.999914e-01]  Label:  [0. 1.]\n",
      "Test number  20  Prediction:  [9.190719e-06 9.999908e-01]  Label:  [0. 1.]\n",
      "Test number  21  Prediction:  [1.1562602e-06 9.9999881e-01]  Label:  [0. 1.]\n",
      "Test number  22  Prediction:  [6.234562e-07 9.999994e-01]  Label:  [0. 1.]\n",
      "Test number  23  Prediction:  [5.9558727e-07 9.9999940e-01]  Label:  [0. 1.]\n",
      "Test number  24  Prediction:  [6.3316185e-07 9.9999940e-01]  Label:  [0. 1.]\n",
      "Test number  25  Prediction:  [2.6215884e-04 9.9973780e-01]  Label:  [0. 1.]\n",
      "Test number  26  Prediction:  [1.1571646e-04 9.9988425e-01]  Label:  [0. 1.]\n",
      "Test number  27  Prediction:  [9.1394833e-07 9.9999905e-01]  Label:  [0. 1.]\n"
     ]
    }
   ],
   "source": [
    "# Preparing Test data\n",
    "print(\"[INFO] loading test images...\")\n",
    "testPaths = list(paths.list_images('./Test'))\n",
    "testX = []\n",
    "testY = []\n",
    "# loop over the image paths\n",
    "for imagePath in testPaths:\n",
    "    # extract the class label from the filename\n",
    "    label = imagePath.split(os.path.sep)[-2]\n",
    "    # swap color channels and resize images to 512x512\n",
    "    image = cv2.imread(imagePath)\n",
    "    image = cv2.cvtColor(image, cv2.COLOR_BGR2RGB)\n",
    "    image = cv2.resize(image, (IMG_HEIGHT, IMG_WIDTH))\n",
    "    # update the data and labels lists, respectively\n",
    "    testX.append(image)\n",
    "    testY.append(label)\n",
    "# intensities to the range [0, 1]\n",
    "testX = np.array(testX) / 255.0\n",
    "testY = np.array(testY)\n",
    "# perform one-hot encoding on the labels\n",
    "lb = LabelBinarizer()\n",
    "testY = lb.fit_transform(testY)\n",
    "testY = to_categorical(testY)\n",
    "# checking the shapes\n",
    "print(testX.shape)\n",
    "print(testY.shape)\n",
    "# Evaluating model\n",
    "print(\"Evaluation :\")\n",
    "test_loss, test_acc = model.evaluate(testX,  testY)\n",
    "# showing the predictions on the test images (14 positive images and 14 negative images)\n",
    "print(\"Predictions :\")\n",
    "Yhat=model.predict(testX)\n",
    "for i in range(len(testX)):\n",
    "    print(\"Test number \",i,\" Prediction: \",Yhat[i],\" Label: \",testY[i]) "
   ]
  },
  {
   "cell_type": "code",
   "execution_count": 148,
   "metadata": {},
   "outputs": [
    {
     "name": "stdout",
     "output_type": "stream",
     "text": [
      "Model loaded\n",
      "Model: \"model_1\"\n",
      "_________________________________________________________________\n",
      "Layer (type)                 Output Shape              Param #   \n",
      "=================================================================\n",
      "input_14 (InputLayer)        [(None, 214, 214, 3)]     0         \n",
      "_________________________________________________________________\n",
      "block1_conv1 (Conv2D)        (None, 214, 214, 64)      1792      \n",
      "_________________________________________________________________\n",
      "block1_conv2 (Conv2D)        (None, 214, 214, 64)      36928     \n",
      "_________________________________________________________________\n",
      "block1_pool (MaxPooling2D)   (None, 107, 107, 64)      0         \n",
      "_________________________________________________________________\n",
      "block2_conv1 (Conv2D)        (None, 107, 107, 128)     73856     \n",
      "_________________________________________________________________\n",
      "block2_conv2 (Conv2D)        (None, 107, 107, 128)     147584    \n",
      "_________________________________________________________________\n",
      "block2_pool (MaxPooling2D)   (None, 53, 53, 128)       0         \n",
      "_________________________________________________________________\n",
      "block3_conv1 (Conv2D)        (None, 53, 53, 256)       295168    \n",
      "_________________________________________________________________\n",
      "block3_conv2 (Conv2D)        (None, 53, 53, 256)       590080    \n",
      "_________________________________________________________________\n",
      "block3_conv3 (Conv2D)        (None, 53, 53, 256)       590080    \n",
      "_________________________________________________________________\n",
      "block3_pool (MaxPooling2D)   (None, 26, 26, 256)       0         \n",
      "_________________________________________________________________\n",
      "block4_conv1 (Conv2D)        (None, 26, 26, 512)       1180160   \n",
      "_________________________________________________________________\n",
      "block4_conv2 (Conv2D)        (None, 26, 26, 512)       2359808   \n",
      "_________________________________________________________________\n",
      "block4_conv3 (Conv2D)        (None, 26, 26, 512)       2359808   \n",
      "_________________________________________________________________\n",
      "block4_pool (MaxPooling2D)   (None, 13, 13, 512)       0         \n",
      "_________________________________________________________________\n",
      "block5_conv1 (Conv2D)        (None, 13, 13, 512)       2359808   \n",
      "_________________________________________________________________\n",
      "block5_conv2 (Conv2D)        (None, 13, 13, 512)       2359808   \n",
      "_________________________________________________________________\n",
      "block5_conv3 (Conv2D)        (None, 13, 13, 512)       2359808   \n",
      "_________________________________________________________________\n",
      "block5_pool (MaxPooling2D)   (None, 6, 6, 512)         0         \n",
      "_________________________________________________________________\n",
      "average_pooling2d_1 (Average (None, 2, 2, 512)         0         \n",
      "_________________________________________________________________\n",
      "flatten_12 (Flatten)         (None, 2048)              0         \n",
      "_________________________________________________________________\n",
      "dense_20 (Dense)             (None, 64)                131136    \n",
      "_________________________________________________________________\n",
      "dropout (Dropout)            (None, 64)                0         \n",
      "_________________________________________________________________\n",
      "dense_21 (Dense)             (None, 2)                 130       \n",
      "=================================================================\n",
      "Total params: 14,845,954\n",
      "Trainable params: 131,266\n",
      "Non-trainable params: 14,714,688\n",
      "_________________________________________________________________\n",
      "WARNING:tensorflow:sample_weight modes were coerced from\n",
      "  ...\n",
      "    to  \n",
      "  ['...']\n",
      "Train for 15 steps, validate on 54 samples\n",
      "Epoch 1/10\n",
      "15/15 [==============================] - 16s 1s/step - loss: 0.6848 - accuracy: 0.6525 - val_loss: 0.3440 - val_accuracy: 0.8333\n",
      "Epoch 2/10\n",
      "15/15 [==============================] - 16s 1s/step - loss: 0.2853 - accuracy: 0.9322 - val_loss: 0.2309 - val_accuracy: 0.9167\n",
      "Epoch 3/10\n",
      "15/15 [==============================] - 18s 1s/step - loss: 0.1955 - accuracy: 0.9667 - val_loss: 0.1288 - val_accuracy: 0.9792\n",
      "Epoch 4/10\n",
      "15/15 [==============================] - 17s 1s/step - loss: 0.1327 - accuracy: 0.9661 - val_loss: 0.0944 - val_accuracy: 0.9792\n",
      "Epoch 5/10\n",
      "15/15 [==============================] - 17s 1s/step - loss: 0.0919 - accuracy: 0.9915 - val_loss: 0.0831 - val_accuracy: 0.9792\n",
      "Epoch 6/10\n",
      "15/15 [==============================] - 17s 1s/step - loss: 0.0818 - accuracy: 0.9831 - val_loss: 0.0674 - val_accuracy: 0.9792\n",
      "Epoch 7/10\n",
      "15/15 [==============================] - 17s 1s/step - loss: 0.0602 - accuracy: 1.0000 - val_loss: 0.0495 - val_accuracy: 1.0000\n",
      "Epoch 8/10\n",
      "15/15 [==============================] - 16s 1s/step - loss: 0.0494 - accuracy: 0.9831 - val_loss: 0.0432 - val_accuracy: 1.0000\n",
      "Epoch 9/10\n",
      "15/15 [==============================] - 16s 1s/step - loss: 0.0432 - accuracy: 1.0000 - val_loss: 0.0377 - val_accuracy: 1.0000\n",
      "Epoch 10/10\n",
      "15/15 [==============================] - 16s 1s/step - loss: 0.0330 - accuracy: 1.0000 - val_loss: 0.0336 - val_accuracy: 1.0000\n"
     ]
    }
   ],
   "source": [
    "# Step 3: transfer learning with VGG16\n",
    "# Loading VGG model\n",
    "baseModelVGG = VGG16(weights=\"imagenet\", include_top=False,input_tensor=layers.Input(shape=(IMG_HEIGHT, IMG_WIDTH, 3)))\n",
    "print(\"Model loaded\")\n",
    "# Putting Pool => FC => dropout => softmax on top of it\n",
    "modelVGG=baseModelVGG.output\n",
    "modelVGG=layers.AveragePooling2D((4, 4),padding=\"same\",strides=(4,4))(modelVGG)\n",
    "modelVGG=layers.Flatten()(modelVGG)\n",
    "modelVGG=layers.Dense(64, activation='relu')(modelVGG)\n",
    "modelVGG=layers.Dropout(0.5)(modelVGG)\n",
    "modelVGG=layers.Dense(2, activation=\"softmax\")(modelVGG)\n",
    "model2 = Model(inputs=baseModelVGG.input, outputs=modelVGG)\n",
    "# denying updates for VGG layers\n",
    "for layer in baseModelVGG.layers:\n",
    "    layer.trainable = False\n",
    "model2.summary()\n",
    "# using Adam optimizing algorithm with decaying learning rate\n",
    "opt = Adam(lr=INIT_LR, decay=INIT_LR / EPOCHS)\n",
    "model2.compile(loss=\"binary_crossentropy\", optimizer=opt,metrics=[\"accuracy\"])\n",
    "\n",
    "history2 = model2.fit_generator(\n",
    "    trainAug.flow(trainX, trainY, batch_size=BS),\n",
    "    steps_per_epoch=len(trainX) // BS,\n",
    "    validation_data=(ValidX, ValidY),\n",
    "    validation_steps=len(ValidX) // BS,\n",
    "    epochs=EPOCHS)"
   ]
  },
  {
   "cell_type": "code",
   "execution_count": 149,
   "metadata": {},
   "outputs": [
    {
     "data": {
      "text/plain": [
       "<matplotlib.legend.Legend at 0x19aabd03f28>"
      ]
     },
     "execution_count": 149,
     "metadata": {},
     "output_type": "execute_result"
    },
    {
     "data": {
      "image/png": "[encoded data removed]",
      "text/plain": [
       "<Figure size 432x288 with 1 Axes>"
      ]
     },
     "metadata": {
      "needs_background": "light"
     },
     "output_type": "display_data"
    }
   ],
   "source": [
    "# plotting Accuracy\n",
    "plt.plot(history2.history['accuracy'], label='accuracy')\n",
    "plt.plot(history2.history['val_accuracy'], label = 'val_accuracy')\n",
    "plt.xlabel('Epoch')\n",
    "plt.ylabel('Accuracy')\n",
    "plt.legend(loc='lower right')"
   ]
  },
  {
   "cell_type": "code",
   "execution_count": 150,
   "metadata": {},
   "outputs": [
    {
     "data": {
      "text/plain": [
       "<matplotlib.legend.Legend at 0x19aabd71fd0>"
      ]
     },
     "execution_count": 150,
     "metadata": {},
     "output_type": "execute_result"
    },
    {
     "data": {
      "image/png": "[encoded data removed]",
      "text/plain": [
       "<Figure size 432x288 with 1 Axes>"
      ]
     },
     "metadata": {
      "needs_background": "light"
     },
     "output_type": "display_data"
    }
   ],
   "source": [
    "plt.plot(history2.history['loss'], label='loss')\n",
    "plt.plot(history2.history['val_loss'], label = 'val_loss')\n",
    "plt.xlabel('Epoch')\n",
    "plt.ylabel('Accuracy')\n",
    "plt.legend(loc='lower right')"
   ]
  },
  {
   "cell_type": "code",
   "execution_count": 151,
   "metadata": {},
   "outputs": [
    {
     "name": "stdout",
     "output_type": "stream",
     "text": [
      "28/28 [==============================] - 0s 3ms/sample - loss: 0.0136 - accuracy: 1.0000\n",
      "Test number  0  Prediction: [ 0.9999998807907104   9.924470845135147e-08 ] Label:  [1. 0.]\n",
      "Test number  1  Prediction: [ 0.9999788999557495   2.1126741557964124e-05 ] Label:  [1. 0.]\n",
      "Test number  2  Prediction: [ 0.9999998807907104   1.1207397676571418e-07 ] Label:  [1. 0.]\n",
      "Test number  3  Prediction: [ 0.9999637603759766   3.620723509811796e-05 ] Label:  [1. 0.]\n",
      "Test number  4  Prediction: [ 0.9999998807907104   7.354969966399949e-08 ] Label:  [1. 0.]\n",
      "Test number  5  Prediction: [ 0.9999970197677612   2.9941097636765335e-06 ] Label:  [1. 0.]\n",
      "Test number  6  Prediction: [ 0.8321799039840698   0.16782015562057495 ] Label:  [1. 0.]\n",
      "Test number  7  Prediction: [ 0.8210033178329468   0.17899662256240845 ] Label:  [1. 0.]\n",
      "Test number  8  Prediction: [ 0.9999934434890747   6.611352091567824e-06 ] Label:  [1. 0.]\n",
      "Test number  9  Prediction: [ 0.9999998807907104   1.386581658380237e-07 ] Label:  [1. 0.]\n",
      "Test number  10  Prediction: [ 0.9999932050704956   6.760431460861582e-06 ] Label:  [1. 0.]\n",
      "Test number  11  Prediction: [ 0.9999850988388062   1.4951351658964995e-05 ] Label:  [1. 0.]\n",
      "Test number  12  Prediction: [ 0.9999998807907104   1.505235047716269e-07 ] Label:  [1. 0.]\n",
      "Test number  13  Prediction: [ 0.9999991655349731   8.000090474524768e-07 ] Label:  [1. 0.]\n",
      "Test number  14  Prediction: [ 7.244792413985124e-06   0.9999927282333374 ] Label:  [0. 1.]\n",
      "Test number  15  Prediction: [ 3.296890440651623e-07   0.9999996423721313 ] Label:  [0. 1.]\n",
      "Test number  16  Prediction: [ 6.06353823968675e-05   0.9999393224716187 ] Label:  [0. 1.]\n",
      "Test number  17  Prediction: [ 2.4056848815234844e-06   0.999997615814209 ] Label:  [0. 1.]\n",
      "Test number  18  Prediction: [ 5.856304142071167e-06   0.999994158744812 ] Label:  [0. 1.]\n",
      "Test number  19  Prediction: [ 8.534632797818631e-06   0.9999914169311523 ] Label:  [0. 1.]\n",
      "Test number  20  Prediction: [ 9.190718628815375e-06   0.9999908208847046 ] Label:  [0. 1.]\n",
      "Test number  21  Prediction: [ 1.1562601685000118e-06   0.9999988079071045 ] Label:  [0. 1.]\n",
      "Test number  22  Prediction: [ 6.234561737983313e-07   0.9999994039535522 ] Label:  [0. 1.]\n",
      "Test number  23  Prediction: [ 5.955872666163486e-07   0.9999994039535522 ] Label:  [0. 1.]\n",
      "Test number  24  Prediction: [ 6.331618465083011e-07   0.9999994039535522 ] Label:  [0. 1.]\n",
      "Test number  25  Prediction: [ 0.0002621588355395943   0.9997377991676331 ] Label:  [0. 1.]\n",
      "Test number  26  Prediction: [ 0.00011571645882213488   0.9998842477798462 ] Label:  [0. 1.]\n",
      "Test number  27  Prediction: [ 9.139483267972537e-07   0.9999990463256836 ] Label:  [0. 1.]\n"
     ]
    }
   ],
   "source": [
    "test_loss, test_acc = model.evaluate(testX,  testY)\n",
    "# showing the predictions on the test images (14 positive images and 14 negative images)\n",
    "Yhat=model.predict(testX)\n",
    "for i in range(len(testX)):\n",
    "    print(\"Test number \",i,\" Prediction: [\",float(Yhat[i][0]),\" \",float(Yhat[i][1]),\"] Label: \",testY[i]) "
   ]
  },
  {
   "cell_type": "code",
   "execution_count": null,
   "metadata": {},
   "outputs": [
    {
     "name": "stdout",
     "output_type": "stream",
     "text": [
      "A local file was found, but it seems to be incomplete or outdated because the auto file hash does not match the original value of 4d473c1dd8becc155b73f8504c6f6626 so we will re-download the data.\n",
      "Downloading data from https://github.com/keras-team/keras-applications/releases/download/resnet/resnet50_weights_tf_dim_ordering_tf_kernels_notop.h5\n",
      "25264128/94765736 [======>.......................] - ETA: 1:43:28"
     ]
    }
   ],
   "source": [
    "# Step 4: transfer learning with ResNet50\n",
    "model3 = Sequential()\n",
    "model3.add(ResNet50(include_top=False, weights='imagenet', input_shape=(IMG_HEIGHT,IMG_WIDTH,3)))\n",
    "print(\"Model loaded\")\n",
    "# FC => dropout => FC => dropout => softmax on top of it\n",
    "model3.add(restnet.output)\n",
    "model3.add(layers.Flatten())\n",
    "model3.add(layers.Dense(512,activation='relu'))\n",
    "model3.add(layers.Dropout(0.3))\n",
    "model3.add(layers.Dense(512,activation='relu'))\n",
    "model3.add(layers.Dropout(0.3))\n",
    "model3.add(layers.Dense(2,activation='softmax'))\n",
    "# Disactivate training on resnet layers\n",
    "for layer in restnet.layers:\n",
    "    layer.trainable = False\n",
    "model3.summary()\n",
    "# using Adam optimizing algorithm with decaying learning rate\n",
    "opt = Adam(lr=INIT_LR, decay=INIT_LR / EPOCHS)\n",
    "model3.compile(loss=\"binary_crossentropy\", optimizer=opt,metrics=[\"accuracy\"])\n",
    "\n",
    "history3 = model.fit_generator(\n",
    "    trainAug.flow(trainX, trainY, batch_size=BS),\n",
    "    steps_per_epoch=len(trainX) // BS,\n",
    "    validation_data=(ValidX, ValidY),\n",
    "    validation_steps=len(ValidX) // BS,\n",
    "    epochs=EPOCHS)"
   ]
  },
  {
   "cell_type": "code",
   "execution_count": null,
   "metadata": {},
   "outputs": [],
   "source": [
    "# plotting Accuracy\n",
    "plt.plot(history2.history['accuracy'], label='accuracy')\n",
    "plt.plot(history2.history['val_accuracy'], label = 'val_accuracy')\n",
    "plt.xlabel('Epoch')\n",
    "plt.ylabel('Accuracy')\n",
    "plt.legend(loc='lower right')"
   ]
  },
  {
   "cell_type": "code",
   "execution_count": null,
   "metadata": {},
   "outputs": [],
   "source": [
    "plt.plot(history2.history['loss'], label='loss')\n",
    "plt.plot(history2.history['val_loss'], label = 'val_loss')\n",
    "plt.xlabel('Epoch')\n",
    "plt.ylabel('Accuracy')\n",
    "plt.legend(loc='lower right')"
   ]
  },
  {
   "cell_type": "code",
   "execution_count": null,
   "metadata": {},
   "outputs": [],
   "source": [
    "test_loss, test_acc = model.evaluate(testX,  testY)\n",
    "# showing the predictions on the test images (14 positive images and 14 negative images)\n",
    "Yhat=model.predict(testX)\n",
    "for i in range(len(testX)):\n",
    "    print(\"Test number \",i,\" Prediction: [\",float(Yhat[i][0]),\" \",float(Yhat[i][1]),\"] Label: \",testY[i]) "
   ]
  }
 ],
 "metadata": {
  "kernelspec": {
   "display_name": "Python 3",
   "language": "python",
   "name": "python3"
  },
  "language_info": {
   "codemirror_mode": {
    "name": "ipython",
    "version": 3
   },
   "file_extension": ".py",
   "mimetype": "text/x-python",
   "name": "python",
   "nbconvert_exporter": "python",
   "pygments_lexer": "ipython3",
   "version": "3.7.3"
  }
 },
 "nbformat": 4,
 "nbformat_minor": 2
}
