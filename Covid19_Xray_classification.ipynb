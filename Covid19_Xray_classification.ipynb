{
 "cells": [
  {
   "cell_type": "markdown",
   "metadata": {},
   "source": [
    "This project is only for learning purposes , the dataset is really limited (100 images of Covid19 infected xrays and  108 images of healthy xrays) , in this project i'm gonna try using different techniques for the sake of testing and getting familiar with multiple concepts : data augmentation , decaying learning rate , transfer learning , dropout regularization...\n",
    "\n",
    "The data distribution is the following: Total = 208 images ; Training = 144 images ; Validation = 36 images ; Test = 28 images\n",
    "\n",
    "i'll be doing this in 4 steps:\n",
    "\n",
    "-Machine learning algorithms (LogisticRegression and SVM)\n",
    "\n",
    "-a simple CNN architecture\n",
    "\n",
    "-transfer learning from VGG16 and fine-tune the output\n",
    "\n",
    "-transfer learning from ResNet50 and fine-tune output"
   ]
  },
  {
   "cell_type": "code",
   "execution_count": 179,
   "metadata": {},
   "outputs": [],
   "source": [
    "from tensorflow.keras.preprocessing.image import ImageDataGenerator\n",
    "from tensorflow.keras.applications import VGG16\n",
    "from tensorflow.keras.applications import ResNet50\n",
    "from tensorflow.keras import layers\n",
    "from tensorflow.keras.models import Model,Sequential\n",
    "from tensorflow.keras.optimizers import Adam,RMSprop,SGD\n",
    "from tensorflow.keras.utils import to_categorical\n",
    "from sklearn.preprocessing import LabelBinarizer,LabelEncoder\n",
    "from sklearn.model_selection import train_test_split\n",
    "from sklearn.metrics import classification_report\n",
    "from sklearn.linear_model import LogisticRegression\n",
    "from sklearn.svm import SVC\n",
    "from imutils import paths\n",
    "import matplotlib.pyplot as plt\n",
    "import numpy as np\n",
    "import cv2\n",
    "import os"
   ]
  },
  {
   "cell_type": "code",
   "execution_count": 180,
   "metadata": {},
   "outputs": [],
   "source": [
    "# image sizes used to train models\n",
    "IMG_WIDTH=214\n",
    "IMG_HEIGHT=214\n",
    "# initializing some hyperparameters\n",
    "INIT_LR = 1e-3\n",
    "EPOCHS = 10\n",
    "BS = 8"
   ]
  },
  {
   "cell_type": "code",
   "execution_count": 181,
   "metadata": {},
   "outputs": [
    {
     "name": "stdout",
     "output_type": "stream",
     "text": [
      "[INFO] loading train and validation images...\n",
      "X shape is : (180, 214, 214, 3)\n",
      "Y shape is : (180,)\n"
     ]
    }
   ],
   "source": [
    "# Preparing the data for the Neural Networks later on\n",
    "print(\"[INFO] loading train and validation images...\")\n",
    "imagePaths = list(paths.list_images('./TrainAndValid'))\n",
    "data = []\n",
    "labels = []\n",
    "for imagePath in imagePaths:\n",
    "    # extract the class label\n",
    "    label = imagePath.split(os.path.sep)[-2]\n",
    "    # swap color channels and resize images to IMG_HEIGHTxIMG_WIDTH\n",
    "    image = cv2.imread(imagePath)\n",
    "    image = cv2.cvtColor(image, cv2.COLOR_BGR2RGB)\n",
    "    image = cv2.resize(image, (IMG_HEIGHT, IMG_WIDTH))\n",
    "    # update the data and labels lists, respectively\n",
    "    data.append(image)\n",
    "    labels.append(label)\n",
    "# intensities to the range [0, 1]\n",
    "data = np.array(data) / 255.0\n",
    "labels = np.array(labels)\n",
    "# checking shapes\n",
    "print(\"X shape is :\",data.shape)\n",
    "print(\"Y shape is :\",labels.shape)"
   ]
  },
  {
   "cell_type": "code",
   "execution_count": 182,
   "metadata": {},
   "outputs": [],
   "source": [
    "# perform one-hot encoding on the labels\n",
    "lb = LabelBinarizer()\n",
    "labels = lb.fit_transform(labels)\n",
    "labels = to_categorical(labels)\n",
    "# partition the data into training and validation splits 70-30\n",
    "(trainX, ValidX, trainY, ValidY) = train_test_split(data, labels,test_size=0.3, stratify=labels, random_state=42)\n",
    "# initialize the training data augmentation object\n",
    "trainAug = ImageDataGenerator(rotation_range=15,fill_mode=\"nearest\")"
   ]
  },
  {
   "cell_type": "code",
   "execution_count": 183,
   "metadata": {},
   "outputs": [
    {
     "name": "stdout",
     "output_type": "stream",
     "text": [
      "Training shape is : (126, 214, 214, 3)\n",
      "Validation shape is : (54, 214, 214, 3)\n"
     ]
    }
   ],
   "source": [
    "print(\"Training shape is :\",trainX.shape)\n",
    "print(\"Validation shape is :\",ValidX.shape)"
   ]
  },
  {
   "cell_type": "code",
   "execution_count": 184,
   "metadata": {},
   "outputs": [
    {
     "name": "stdout",
     "output_type": "stream",
     "text": [
      "(126, 137388)\n",
      "(54, 137388)\n",
      "(126,)\n"
     ]
    }
   ],
   "source": [
    "# prepare data for Machine learning algorithms\n",
    "binaryLabels=[]\n",
    "for i,label in enumerate(labels):\n",
    "    if label[0]==1:\n",
    "        binaryLabels.append(1)\n",
    "    else:\n",
    "        binaryLabels.append(0)\n",
    "binaryLabels=np.array(binaryLabels)\n",
    "# partition the data into training and validation splits 70-30 \n",
    "(trainX_ML, ValidX_ML, trainY_ML, ValidY_ML) = train_test_split(data, binaryLabels,test_size=0.3, stratify=binaryLabels, random_state=42)\n",
    "# flatten each image HEIGHTxWIDTHx3 to a vector of features\n",
    "trainX_flatten = trainX_ML.reshape(trainX_ML.shape[0], -1)\n",
    "ValidX_flatten = ValidX_ML.reshape(ValidX_ML.shape[0], -1)\n",
    "print(trainX_flatten.shape)\n",
    "print(ValidX_flatten.shape)\n",
    "print(trainY_ML.shape)"
   ]
  },
  {
   "cell_type": "code",
   "execution_count": 185,
   "metadata": {},
   "outputs": [
    {
     "name": "stderr",
     "output_type": "stream",
     "text": [
      "D:\\Users\\Shintaki\\Anaconda3\\lib\\site-packages\\sklearn\\linear_model\\logistic.py:433: FutureWarning: Default solver will be changed to 'lbfgs' in 0.22. Specify a solver to silence this warning.\n",
      "  FutureWarning)\n"
     ]
    },
    {
     "name": "stdout",
     "output_type": "stream",
     "text": [
      "Accuracy: 0.9814814814814815\n",
      "Predictions :\n",
      "[0 1 1 0 0 0 0 1 0 1 0 0 0 0 1 0 0 0 0 1 1 1 0 1 0 1 0 1 1 1 1 0 1 0 0 1 0\n",
      " 1 1 0 1 1 0 0 1 1 1 1 1 0 0 1 1 0]\n",
      "Actual Labels :\n",
      "[0 1 1 0 0 0 0 1 0 1 0 0 0 0 1 0 0 0 0 1 1 1 0 1 0 1 0 1 1 1 1 0 0 0 0 1 0\n",
      " 1 1 0 1 1 0 0 1 1 1 1 1 0 0 1 1 0]\n"
     ]
    }
   ],
   "source": [
    "# Step 1 : Machine learning algorithms (Validation set is used for testing here (Accuracy and predictions))\n",
    "# Logistic regression classifier\n",
    "clf = LogisticRegression(random_state=0).fit(trainX_flatten, trainY_ML)\n",
    "print(\"Accuracy:\",clf.score(ValidX_flatten,ValidY_ML))\n",
    "print(\"Predictions :\")\n",
    "print(clf.predict(ValidX_flatten))\n",
    "print(\"Actual Labels :\")\n",
    "print(ValidY_ML)"
   ]
  },
  {
   "cell_type": "code",
   "execution_count": 186,
   "metadata": {},
   "outputs": [
    {
     "name": "stdout",
     "output_type": "stream",
     "text": [
      "Accuracy : 0.9814814814814815\n",
      "Predictions :\n",
      "[0 1 1 0 0 0 0 1 0 1 0 0 0 0 1 0 0 0 0 1 1 1 0 1 0 1 0 1 1 1 1 0 1 0 0 1 0\n",
      " 1 1 0 1 1 0 0 1 1 1 1 1 0 0 1 1 0]\n",
      "Actual Labels :\n",
      "[0 1 1 0 0 0 0 1 0 1 0 0 0 0 1 0 0 0 0 1 1 1 0 1 0 1 0 1 1 1 1 0 0 0 0 1 0\n",
      " 1 1 0 1 1 0 0 1 1 1 1 1 0 0 1 1 0]\n"
     ]
    }
   ],
   "source": [
    "# SVC classifier\n",
    "clf = SVC(gamma='auto')\n",
    "clf.fit(trainX_flatten, trainY_ML)\n",
    "print(\"Accuracy :\",clf.score(ValidX_flatten,ValidY_ML))\n",
    "print(\"Predictions :\")\n",
    "print(clf.predict(ValidX_flatten))\n",
    "print(\"Actual Labels :\")\n",
    "print(ValidY_ML)"
   ]
  },
  {
   "cell_type": "code",
   "execution_count": 187,
   "metadata": {},
   "outputs": [
    {
     "name": "stdout",
     "output_type": "stream",
     "text": [
      "Model: \"sequential_18\"\n",
      "_________________________________________________________________\n",
      "Layer (type)                 Output Shape              Param #   \n",
      "=================================================================\n",
      "conv2d_12 (Conv2D)           (None, 214, 214, 32)      896       \n",
      "_________________________________________________________________\n",
      "max_pooling2d_12 (MaxPooling (None, 27, 27, 32)        0         \n",
      "_________________________________________________________________\n",
      "conv2d_13 (Conv2D)           (None, 27, 27, 64)        18496     \n",
      "_________________________________________________________________\n",
      "max_pooling2d_13 (MaxPooling (None, 7, 7, 64)          0         \n",
      "_________________________________________________________________\n",
      "flatten_16 (Flatten)         (None, 3136)              0         \n",
      "_________________________________________________________________\n",
      "dense_31 (Dense)             (None, 512)               1606144   \n",
      "_________________________________________________________________\n",
      "dense_32 (Dense)             (None, 64)                32832     \n",
      "_________________________________________________________________\n",
      "dense_33 (Dense)             (None, 2)                 130       \n",
      "=================================================================\n",
      "Total params: 1,658,498\n",
      "Trainable params: 1,658,498\n",
      "Non-trainable params: 0\n",
      "_________________________________________________________________\n",
      "WARNING:tensorflow:sample_weight modes were coerced from\n",
      "  ...\n",
      "    to  \n",
      "  ['...']\n",
      "Train for 15 steps, validate on 54 samples\n",
      "Epoch 1/10\n",
      "15/15 [==============================] - 2s 135ms/step - loss: 0.7022 - accuracy: 0.6083 - val_loss: 0.5409 - val_accuracy: 0.5208\n",
      "Epoch 2/10\n",
      "15/15 [==============================] - 2s 110ms/step - loss: 0.4501 - accuracy: 0.8051 - val_loss: 0.2148 - val_accuracy: 0.8958\n",
      "Epoch 3/10\n",
      "15/15 [==============================] - 2s 113ms/step - loss: 0.2907 - accuracy: 0.8898 - val_loss: 0.2233 - val_accuracy: 0.8958\n",
      "Epoch 4/10\n",
      "15/15 [==============================] - 2s 112ms/step - loss: 0.2119 - accuracy: 0.8814 - val_loss: 0.0790 - val_accuracy: 0.9792\n",
      "Epoch 5/10\n",
      "15/15 [==============================] - 2s 115ms/step - loss: 0.1058 - accuracy: 0.9661 - val_loss: 0.0267 - val_accuracy: 1.0000\n",
      "Epoch 6/10\n",
      "15/15 [==============================] - 2s 123ms/step - loss: 0.0443 - accuracy: 0.9915 - val_loss: 0.0351 - val_accuracy: 1.0000\n",
      "Epoch 7/10\n",
      "15/15 [==============================] - 2s 119ms/step - loss: 0.0158 - accuracy: 1.0000 - val_loss: 0.0108 - val_accuracy: 1.0000\n",
      "Epoch 8/10\n",
      "15/15 [==============================] - 2s 117ms/step - loss: 0.0191 - accuracy: 0.9915 - val_loss: 0.0219 - val_accuracy: 1.0000\n",
      "Epoch 9/10\n",
      "15/15 [==============================] - 2s 127ms/step - loss: 0.0120 - accuracy: 1.0000 - val_loss: 0.0055 - val_accuracy: 1.0000\n",
      "Epoch 10/10\n",
      "15/15 [==============================] - 2s 119ms/step - loss: 0.0199 - accuracy: 1.0000 - val_loss: 0.0030 - val_accuracy: 1.0000\n"
     ]
    }
   ],
   "source": [
    "# Step 2 : a simple CNN\n",
    "model =Sequential()\n",
    "model.add(layers.Conv2D(32, (3, 3), padding=\"same\",activation='relu', input_shape=(IMG_HEIGHT, IMG_WIDTH, 3)))\n",
    "model.add(layers.MaxPooling2D((8, 8),padding=\"same\",strides=(8,8)))\n",
    "model.add(layers.Conv2D(64, (3, 3), padding=\"same\",activation='relu'))\n",
    "model.add(layers.MaxPooling2D((4, 4),padding=\"same\",strides=(4,4)))\n",
    "model.add(layers.Flatten())\n",
    "model.add(layers.Dense(512, activation='relu'))\n",
    "model.add(layers.Dense(64, activation='relu'))\n",
    "model.add(layers.Dense(2, activation=\"softmax\"))\n",
    "model.summary()\n",
    "# using Adam optimizing algorithm with decaying learning rate\n",
    "opt = Adam(lr=INIT_LR, decay=INIT_LR / EPOCHS)\n",
    "model.compile(loss=\"binary_crossentropy\", optimizer=opt,metrics=[\"accuracy\"])\n",
    "\n",
    "history1 = model.fit_generator(\n",
    "    trainAug.flow(trainX, trainY, batch_size=BS),\n",
    "    steps_per_epoch=len(trainX) // BS,\n",
    "    validation_data=(ValidX, ValidY),\n",
    "    validation_steps=len(ValidX) // BS,\n",
    "    epochs=EPOCHS)"
   ]
  },
  {
   "cell_type": "code",
   "execution_count": 188,
   "metadata": {},
   "outputs": [
    {
     "data": {
      "text/plain": [
       "<matplotlib.legend.Legend at 0x19b1429f828>"
      ]
     },
     "execution_count": 188,
     "metadata": {},
     "output_type": "execute_result"
    },
    {
     "data": {
      "image/png": "[encoded data removed]",
      "text/plain": [
       "<Figure size 432x288 with 1 Axes>"
      ]
     },
     "metadata": {
      "needs_background": "light"
     },
     "output_type": "display_data"
    }
   ],
   "source": [
    "# plotting Accuracy\n",
    "plt.plot(history1.history['accuracy'], label='accuracy')\n",
    "plt.plot(history1.history['val_accuracy'], label = 'val_accuracy')\n",
    "plt.xlabel('Epoch')\n",
    "plt.ylabel('Accuracy')\n",
    "plt.legend(loc='lower right')"
   ]
  },
  {
   "cell_type": "code",
   "execution_count": 189,
   "metadata": {},
   "outputs": [
    {
     "data": {
      "text/plain": [
       "<matplotlib.legend.Legend at 0x19b13f83cf8>"
      ]
     },
     "execution_count": 189,
     "metadata": {},
     "output_type": "execute_result"
    },
    {
     "data": {
      "image/png": "[encoded data removed]",
      "text/plain": [
       "<Figure size 432x288 with 1 Axes>"
      ]
     },
     "metadata": {
      "needs_background": "light"
     },
     "output_type": "display_data"
    }
   ],
   "source": [
    "# plotting loss\n",
    "plt.plot(history1.history['loss'], label='loss')\n",
    "plt.plot(history1.history['val_loss'], label = 'val_loss')\n",
    "plt.xlabel('Epoch')\n",
    "plt.ylabel('Loss')\n",
    "plt.legend(loc='lower right')"
   ]
  },
  {
   "cell_type": "code",
   "execution_count": 190,
   "metadata": {},
   "outputs": [
    {
     "name": "stdout",
     "output_type": "stream",
     "text": [
      "[INFO] loading test images...\n",
      "(28, 214, 214, 3)\n",
      "(28, 2)\n",
      "Evaluation :\n",
      "28/28 [==============================] - 0s 3ms/sample - loss: 0.1037 - accuracy: 0.9643\n",
      "Predictions :\n",
      "Test number  0  Prediction:  [9.9998069e-01 1.9279973e-05]  Label:  [1. 0.]\n",
      "Test number  1  Prediction:  [9.9959332e-01 4.0669582e-04]  Label:  [1. 0.]\n",
      "Test number  2  Prediction:  [9.9996078e-01 3.9271294e-05]  Label:  [1. 0.]\n",
      "Test number  3  Prediction:  [9.9957269e-01 4.2728893e-04]  Label:  [1. 0.]\n",
      "Test number  4  Prediction:  [9.9996519e-01 3.4849476e-05]  Label:  [1. 0.]\n",
      "Test number  5  Prediction:  [9.999068e-01 9.319648e-05]  Label:  [1. 0.]\n",
      "Test number  6  Prediction:  [0.05995192 0.94004804]  Label:  [1. 0.]\n",
      "Test number  7  Prediction:  [0.9197652  0.08023486]  Label:  [1. 0.]\n",
      "Test number  8  Prediction:  [9.9992466e-01 7.5275399e-05]  Label:  [1. 0.]\n",
      "Test number  9  Prediction:  [9.9998665e-01 1.3403719e-05]  Label:  [1. 0.]\n",
      "Test number  10  Prediction:  [9.999391e-01 6.089330e-05]  Label:  [1. 0.]\n",
      "Test number  11  Prediction:  [9.994068e-01 5.931414e-04]  Label:  [1. 0.]\n",
      "Test number  12  Prediction:  [9.9989414e-01 1.0581320e-04]  Label:  [1. 0.]\n",
      "Test number  13  Prediction:  [9.999211e-01 7.886405e-05]  Label:  [1. 0.]\n",
      "Test number  14  Prediction:  [1.4817497e-05 9.9998522e-01]  Label:  [0. 1.]\n",
      "Test number  15  Prediction:  [4.680863e-07 9.999995e-01]  Label:  [0. 1.]\n",
      "Test number  16  Prediction:  [1.2815511e-04 9.9987185e-01]  Label:  [0. 1.]\n",
      "Test number  17  Prediction:  [2.347829e-06 9.999976e-01]  Label:  [0. 1.]\n",
      "Test number  18  Prediction:  [6.772628e-06 9.999932e-01]  Label:  [0. 1.]\n",
      "Test number  19  Prediction:  [4.2278487e-05 9.9995768e-01]  Label:  [0. 1.]\n",
      "Test number  20  Prediction:  [2.6076348e-05 9.9997389e-01]  Label:  [0. 1.]\n",
      "Test number  21  Prediction:  [1.2417917e-06 9.9999881e-01]  Label:  [0. 1.]\n",
      "Test number  22  Prediction:  [8.1883161e-07 9.9999917e-01]  Label:  [0. 1.]\n",
      "Test number  23  Prediction:  [1.3969945e-06 9.9999857e-01]  Label:  [0. 1.]\n",
      "Test number  24  Prediction:  [3.8928852e-06 9.9999607e-01]  Label:  [0. 1.]\n",
      "Test number  25  Prediction:  [0.00370017 0.9962998 ]  Label:  [0. 1.]\n",
      "Test number  26  Prediction:  [4.6627794e-04 9.9953377e-01]  Label:  [0. 1.]\n",
      "Test number  27  Prediction:  [1.1881768e-06 9.9999881e-01]  Label:  [0. 1.]\n"
     ]
    }
   ],
   "source": [
    "# Preparing Test data\n",
    "print(\"[INFO] loading test images...\")\n",
    "testPaths = list(paths.list_images('./Test'))\n",
    "testX = []\n",
    "testY = []\n",
    "# loop over the image paths\n",
    "for imagePath in testPaths:\n",
    "    # extract the class label from the filename\n",
    "    label = imagePath.split(os.path.sep)[-2]\n",
    "    # swap color channels and resize images to 512x512\n",
    "    image = cv2.imread(imagePath)\n",
    "    image = cv2.cvtColor(image, cv2.COLOR_BGR2RGB)\n",
    "    image = cv2.resize(image, (IMG_HEIGHT, IMG_WIDTH))\n",
    "    # update the data and labels lists, respectively\n",
    "    testX.append(image)\n",
    "    testY.append(label)\n",
    "# intensities to the range [0, 1]\n",
    "testX = np.array(testX) / 255.0\n",
    "testY = np.array(testY)\n",
    "# perform one-hot encoding on the labels\n",
    "lb = LabelBinarizer()\n",
    "testY = lb.fit_transform(testY)\n",
    "testY = to_categorical(testY)\n",
    "# checking the shapes\n",
    "print(testX.shape)\n",
    "print(testY.shape)\n",
    "# Evaluating model\n",
    "print(\"Evaluation :\")\n",
    "test_loss, test_acc = model.evaluate(testX,  testY)\n",
    "# showing the predictions on the test images (14 positive images and 14 negative images)\n",
    "print(\"Predictions :\")\n",
    "Yhat=model.predict(testX)\n",
    "for i in range(len(testX)):\n",
    "    print(\"Test number \",i,\" Prediction: \",Yhat[i],\" Label: \",testY[i]) "
   ]
  },
  {
   "cell_type": "code",
   "execution_count": 191,
   "metadata": {},
   "outputs": [
    {
     "name": "stdout",
     "output_type": "stream",
     "text": [
      "Model loaded\n",
      "Model: \"model_2\"\n",
      "_________________________________________________________________\n",
      "Layer (type)                 Output Shape              Param #   \n",
      "=================================================================\n",
      "input_27 (InputLayer)        [(None, 214, 214, 3)]     0         \n",
      "_________________________________________________________________\n",
      "block1_conv1 (Conv2D)        (None, 214, 214, 64)      1792      \n",
      "_________________________________________________________________\n",
      "block1_conv2 (Conv2D)        (None, 214, 214, 64)      36928     \n",
      "_________________________________________________________________\n",
      "block1_pool (MaxPooling2D)   (None, 107, 107, 64)      0         \n",
      "_________________________________________________________________\n",
      "block2_conv1 (Conv2D)        (None, 107, 107, 128)     73856     \n",
      "_________________________________________________________________\n",
      "block2_conv2 (Conv2D)        (None, 107, 107, 128)     147584    \n",
      "_________________________________________________________________\n",
      "block2_pool (MaxPooling2D)   (None, 53, 53, 128)       0         \n",
      "_________________________________________________________________\n",
      "block3_conv1 (Conv2D)        (None, 53, 53, 256)       295168    \n",
      "_________________________________________________________________\n",
      "block3_conv2 (Conv2D)        (None, 53, 53, 256)       590080    \n",
      "_________________________________________________________________\n",
      "block3_conv3 (Conv2D)        (None, 53, 53, 256)       590080    \n",
      "_________________________________________________________________\n",
      "block3_pool (MaxPooling2D)   (None, 26, 26, 256)       0         \n",
      "_________________________________________________________________\n",
      "block4_conv1 (Conv2D)        (None, 26, 26, 512)       1180160   \n",
      "_________________________________________________________________\n",
      "block4_conv2 (Conv2D)        (None, 26, 26, 512)       2359808   \n",
      "_________________________________________________________________\n",
      "block4_conv3 (Conv2D)        (None, 26, 26, 512)       2359808   \n",
      "_________________________________________________________________\n",
      "block4_pool (MaxPooling2D)   (None, 13, 13, 512)       0         \n",
      "_________________________________________________________________\n",
      "block5_conv1 (Conv2D)        (None, 13, 13, 512)       2359808   \n",
      "_________________________________________________________________\n",
      "block5_conv2 (Conv2D)        (None, 13, 13, 512)       2359808   \n",
      "_________________________________________________________________\n",
      "block5_conv3 (Conv2D)        (None, 13, 13, 512)       2359808   \n",
      "_________________________________________________________________\n",
      "block5_pool (MaxPooling2D)   (None, 6, 6, 512)         0         \n",
      "_________________________________________________________________\n",
      "average_pooling2d_2 (Average (None, 2, 2, 512)         0         \n",
      "_________________________________________________________________\n",
      "flatten_17 (Flatten)         (None, 2048)              0         \n",
      "_________________________________________________________________\n",
      "dense_34 (Dense)             (None, 64)                131136    \n",
      "_________________________________________________________________\n",
      "dropout_5 (Dropout)          (None, 64)                0         \n",
      "_________________________________________________________________\n",
      "dense_35 (Dense)             (None, 2)                 130       \n",
      "=================================================================\n",
      "Total params: 14,845,954\n",
      "Trainable params: 131,266\n",
      "Non-trainable params: 14,714,688\n",
      "_________________________________________________________________\n",
      "WARNING:tensorflow:sample_weight modes were coerced from\n",
      "  ...\n",
      "    to  \n",
      "  ['...']\n",
      "Train for 15 steps, validate on 54 samples\n",
      "Epoch 1/10\n",
      "15/15 [==============================] - 15s 1s/step - loss: 0.5026 - accuracy: 0.7750 - val_loss: 0.2127 - val_accuracy: 0.9375\n",
      "Epoch 2/10\n",
      "15/15 [==============================] - 15s 1s/step - loss: 0.2031 - accuracy: 0.9407 - val_loss: 0.1301 - val_accuracy: 0.9583\n",
      "Epoch 3/10\n",
      "15/15 [==============================] - 16s 1s/step - loss: 0.1241 - accuracy: 0.9576 - val_loss: 0.0809 - val_accuracy: 0.9792\n",
      "Epoch 4/10\n",
      "15/15 [==============================] - 17s 1s/step - loss: 0.0848 - accuracy: 0.9831 - val_loss: 0.0517 - val_accuracy: 1.0000\n",
      "Epoch 5/10\n",
      "15/15 [==============================] - 16s 1s/step - loss: 0.0641 - accuracy: 0.9746 - val_loss: 0.0421 - val_accuracy: 1.0000\n",
      "Epoch 6/10\n",
      "15/15 [==============================] - 17s 1s/step - loss: 0.0456 - accuracy: 1.0000 - val_loss: 0.0359 - val_accuracy: 1.0000\n",
      "Epoch 7/10\n",
      "15/15 [==============================] - 18s 1s/step - loss: 0.0279 - accuracy: 1.0000 - val_loss: 0.0288 - val_accuracy: 1.0000\n",
      "Epoch 8/10\n",
      "15/15 [==============================] - 17s 1s/step - loss: 0.0255 - accuracy: 1.0000 - val_loss: 0.0257 - val_accuracy: 1.0000\n",
      "Epoch 9/10\n",
      "15/15 [==============================] - 16s 1s/step - loss: 0.0205 - accuracy: 1.0000 - val_loss: 0.0235 - val_accuracy: 1.0000\n",
      "Epoch 10/10\n",
      "15/15 [==============================] - 16s 1s/step - loss: 0.0246 - accuracy: 1.0000 - val_loss: 0.0205 - val_accuracy: 1.0000\n"
     ]
    }
   ],
   "source": [
    "# Step 3: transfer learning with VGG16\n",
    "# Loading VGG model\n",
    "baseModelVGG = VGG16(weights=\"imagenet\", include_top=False,input_tensor=layers.Input(shape=(IMG_HEIGHT, IMG_WIDTH, 3)))\n",
    "print(\"Model loaded\")\n",
    "# Putting Pool => FC => dropout => softmax on top of it\n",
    "modelVGG=baseModelVGG.output\n",
    "modelVGG=layers.AveragePooling2D((4, 4),padding=\"same\",strides=(4,4))(modelVGG)\n",
    "modelVGG=layers.Flatten()(modelVGG)\n",
    "modelVGG=layers.Dense(64, activation='relu')(modelVGG)\n",
    "modelVGG=layers.Dropout(0.5)(modelVGG)\n",
    "modelVGG=layers.Dense(2, activation=\"softmax\")(modelVGG)\n",
    "model2 = Model(inputs=baseModelVGG.input, outputs=modelVGG)\n",
    "# denying updates for VGG layers\n",
    "for layer in baseModelVGG.layers:\n",
    "    layer.trainable = False\n",
    "model2.summary()\n",
    "# using Adam optimizing algorithm with decaying learning rate\n",
    "opt = Adam(lr=INIT_LR, decay=INIT_LR / EPOCHS)\n",
    "model2.compile(loss=\"binary_crossentropy\", optimizer=opt,metrics=[\"accuracy\"])\n",
    "\n",
    "history2 = model2.fit_generator(\n",
    "    trainAug.flow(trainX, trainY, batch_size=BS),\n",
    "    steps_per_epoch=len(trainX) // BS,\n",
    "    validation_data=(ValidX, ValidY),\n",
    "    validation_steps=len(ValidX) // BS,\n",
    "    epochs=EPOCHS)"
   ]
  },
  {
   "cell_type": "code",
   "execution_count": 192,
   "metadata": {},
   "outputs": [
    {
     "data": {
      "text/plain": [
       "<matplotlib.legend.Legend at 0x19b1447ec50>"
      ]
     },
     "execution_count": 192,
     "metadata": {},
     "output_type": "execute_result"
    },
    {
     "data": {
      "image/png": "[encoded data removed]",
      "text/plain": [
       "<Figure size 432x288 with 1 Axes>"
      ]
     },
     "metadata": {
      "needs_background": "light"
     },
     "output_type": "display_data"
    }
   ],
   "source": [
    "# plotting Accuracy\n",
    "plt.plot(history2.history['accuracy'], label='accuracy')\n",
    "plt.plot(history2.history['val_accuracy'], label = 'val_accuracy')\n",
    "plt.xlabel('Epoch')\n",
    "plt.ylabel('Accuracy')\n",
    "plt.legend(loc='lower right')"
   ]
  },
  {
   "cell_type": "code",
   "execution_count": 193,
   "metadata": {},
   "outputs": [
    {
     "data": {
      "text/plain": [
       "<matplotlib.legend.Legend at 0x19b149a0c18>"
      ]
     },
     "execution_count": 193,
     "metadata": {},
     "output_type": "execute_result"
    },
    {
     "data": {
      "image/png": "[encoded data removed]",
      "text/plain": [
       "<Figure size 432x288 with 1 Axes>"
      ]
     },
     "metadata": {
      "needs_background": "light"
     },
     "output_type": "display_data"
    }
   ],
   "source": [
    "plt.plot(history2.history['loss'], label='loss')\n",
    "plt.plot(history2.history['val_loss'], label = 'val_loss')\n",
    "plt.xlabel('Epoch')\n",
    "plt.ylabel('Loss')\n",
    "plt.legend(loc='lower right')"
   ]
  },
  {
   "cell_type": "code",
   "execution_count": 194,
   "metadata": {},
   "outputs": [
    {
     "name": "stdout",
     "output_type": "stream",
     "text": [
      "28/28 [==============================] - 0s 3ms/sample - loss: 0.1037 - accuracy: 0.9643\n",
      "Test number  0  Prediction: [ 0.9999806880950928   1.9279972548247315e-05 ] Label:  [1. 0.]\n",
      "Test number  1  Prediction: [ 0.9995933175086975   0.0004066958208568394 ] Label:  [1. 0.]\n",
      "Test number  2  Prediction: [ 0.9999607801437378   3.92712936445605e-05 ] Label:  [1. 0.]\n",
      "Test number  3  Prediction: [ 0.9995726943016052   0.0004272889345884323 ] Label:  [1. 0.]\n",
      "Test number  4  Prediction: [ 0.9999651908874512   3.484947592369281e-05 ] Label:  [1. 0.]\n",
      "Test number  5  Prediction: [ 0.9999067783355713   9.319648233940825e-05 ] Label:  [1. 0.]\n",
      "Test number  6  Prediction: [ 0.05995192378759384   0.9400480389595032 ] Label:  [1. 0.]\n",
      "Test number  7  Prediction: [ 0.9197651743888855   0.08023485541343689 ] Label:  [1. 0.]\n",
      "Test number  8  Prediction: [ 0.9999246597290039   7.527539855800569e-05 ] Label:  [1. 0.]\n",
      "Test number  9  Prediction: [ 0.9999866485595703   1.340371909464011e-05 ] Label:  [1. 0.]\n",
      "Test number  10  Prediction: [ 0.9999390840530396   6.089330054237507e-05 ] Label:  [1. 0.]\n",
      "Test number  11  Prediction: [ 0.9994068145751953   0.0005931414198130369 ] Label:  [1. 0.]\n",
      "Test number  12  Prediction: [ 0.9998941421508789   0.0001058131965692155 ] Label:  [1. 0.]\n",
      "Test number  13  Prediction: [ 0.9999210834503174   7.886404637247324e-05 ] Label:  [1. 0.]\n",
      "Test number  14  Prediction: [ 1.4817496776231565e-05   0.9999852180480957 ] Label:  [0. 1.]\n",
      "Test number  15  Prediction: [ 4.680863128214696e-07   0.9999995231628418 ] Label:  [0. 1.]\n",
      "Test number  16  Prediction: [ 0.00012815510854125023   0.9998718500137329 ] Label:  [0. 1.]\n",
      "Test number  17  Prediction: [ 2.3478289676859276e-06   0.999997615814209 ] Label:  [0. 1.]\n",
      "Test number  18  Prediction: [ 6.772627784812357e-06   0.9999932050704956 ] Label:  [0. 1.]\n",
      "Test number  19  Prediction: [ 4.227848694426939e-05   0.9999576807022095 ] Label:  [0. 1.]\n",
      "Test number  20  Prediction: [ 2.6076348149217665e-05   0.9999738931655884 ] Label:  [0. 1.]\n",
      "Test number  21  Prediction: [ 1.2417916650520056e-06   0.9999988079071045 ] Label:  [0. 1.]\n",
      "Test number  22  Prediction: [ 8.188316087398562e-07   0.9999991655349731 ] Label:  [0. 1.]\n",
      "Test number  23  Prediction: [ 1.3969945484859636e-06   0.9999985694885254 ] Label:  [0. 1.]\n",
      "Test number  24  Prediction: [ 3.892885160894366e-06   0.9999960660934448 ] Label:  [0. 1.]\n",
      "Test number  25  Prediction: [ 0.0037001706659793854   0.9962998032569885 ] Label:  [0. 1.]\n",
      "Test number  26  Prediction: [ 0.00046627793926745653   0.9995337724685669 ] Label:  [0. 1.]\n",
      "Test number  27  Prediction: [ 1.1881768386956537e-06   0.9999988079071045 ] Label:  [0. 1.]\n"
     ]
    }
   ],
   "source": [
    "test_loss, test_acc = model.evaluate(testX,  testY)\n",
    "# showing the predictions on the test images (14 positive images and 14 negative images)\n",
    "Yhat=model.predict(testX)\n",
    "for i in range(len(testX)):\n",
    "    print(\"Test number \",i,\" Prediction: [\",float(Yhat[i][0]),\" \",float(Yhat[i][1]),\"] Label: \",testY[i]) "
   ]
  },
  {
   "cell_type": "code",
   "execution_count": 200,
   "metadata": {},
   "outputs": [
    {
     "name": "stdout",
     "output_type": "stream",
     "text": [
      "Model loaded\n",
      "Model: \"sequential_21\"\n",
      "_________________________________________________________________\n",
      "Layer (type)                 Output Shape              Param #   \n",
      "=================================================================\n",
      "resnet50 (Model)             (None, 7, 7, 2048)        23587712  \n",
      "_________________________________________________________________\n",
      "flatten_20 (Flatten)         (None, 100352)            0         \n",
      "_________________________________________________________________\n",
      "dense_42 (Dense)             (None, 512)               51380736  \n",
      "_________________________________________________________________\n",
      "dropout_10 (Dropout)         (None, 512)               0         \n",
      "_________________________________________________________________\n",
      "dense_43 (Dense)             (None, 512)               262656    \n",
      "_________________________________________________________________\n",
      "dropout_11 (Dropout)         (None, 512)               0         \n",
      "_________________________________________________________________\n",
      "dense_44 (Dense)             (None, 2)                 1026      \n",
      "=================================================================\n",
      "Total params: 75,232,130\n",
      "Trainable params: 75,179,010\n",
      "Non-trainable params: 53,120\n",
      "_________________________________________________________________\n",
      "WARNING:tensorflow:sample_weight modes were coerced from\n",
      "  ...\n",
      "    to  \n",
      "  ['...']\n",
      "Train for 15 steps, validate on 54 samples\n",
      "Epoch 1/10\n",
      "15/15 [==============================] - 2s 113ms/step - loss: 3.1341e-04 - accuracy: 1.0000 - val_loss: 1.7566e-04 - val_accuracy: 1.0000\n",
      "Epoch 2/10\n",
      "15/15 [==============================] - 2s 111ms/step - loss: 3.4077e-04 - accuracy: 1.0000 - val_loss: 1.4141e-04 - val_accuracy: 1.0000\n",
      "Epoch 3/10\n",
      "15/15 [==============================] - 2s 111ms/step - loss: 2.2498e-04 - accuracy: 1.0000 - val_loss: 1.3136e-04 - val_accuracy: 1.0000\n",
      "Epoch 4/10\n",
      "15/15 [==============================] - 2s 110ms/step - loss: 1.3731e-04 - accuracy: 1.0000 - val_loss: 1.3410e-04 - val_accuracy: 1.0000\n",
      "Epoch 5/10\n",
      "15/15 [==============================] - 2s 113ms/step - loss: 1.4498e-04 - accuracy: 1.0000 - val_loss: 1.0083e-04 - val_accuracy: 1.0000\n",
      "Epoch 6/10\n",
      "15/15 [==============================] - 2s 111ms/step - loss: 2.4197e-04 - accuracy: 1.0000 - val_loss: 1.5950e-04 - val_accuracy: 1.0000\n",
      "Epoch 7/10\n",
      "15/15 [==============================] - 2s 112ms/step - loss: 1.1061e-04 - accuracy: 1.0000 - val_loss: 8.1275e-05 - val_accuracy: 1.0000\n",
      "Epoch 8/10\n",
      "15/15 [==============================] - 2s 113ms/step - loss: 1.5105e-04 - accuracy: 1.0000 - val_loss: 1.1220e-04 - val_accuracy: 1.0000\n",
      "Epoch 9/10\n",
      "15/15 [==============================] - 2s 113ms/step - loss: 2.9391e-04 - accuracy: 1.0000 - val_loss: 6.4797e-05 - val_accuracy: 1.0000\n",
      "Epoch 10/10\n",
      "15/15 [==============================] - 2s 112ms/step - loss: 2.1085e-04 - accuracy: 1.0000 - val_loss: 7.8065e-05 - val_accuracy: 1.0000\n"
     ]
    }
   ],
   "source": [
    "# Step 4: transfer learning with ResNet50\n",
    "model3 = Sequential()\n",
    "model3.add(ResNet50(include_top=False, weights='imagenet', input_shape=(IMG_HEIGHT,IMG_WIDTH,3)))\n",
    "print(\"Model loaded\")\n",
    "# FC => dropout => FC => dropout => softmax on top of it\n",
    "model3.add(layers.Flatten())\n",
    "model3.add(layers.Dense(512,activation='relu'))\n",
    "model3.add(layers.Dropout(0.3))\n",
    "model3.add(layers.Dense(512,activation='relu'))\n",
    "model3.add(layers.Dropout(0.3))\n",
    "model3.add(layers.Dense(2,activation='softmax'))\n",
    "# Disactivate training on resnet layers\n",
    "for layer in restnet.layers:\n",
    "    layer.trainable = False\n",
    "model3.summary()\n",
    "# using Adam optimizing algorithm with decaying learning rate\n",
    "opt = Adam(lr=INIT_LR, decay=INIT_LR / EPOCHS)\n",
    "model3.compile(loss=\"binary_crossentropy\", optimizer=opt,metrics=[\"accuracy\"])\n",
    "\n",
    "history3 = model.fit_generator(\n",
    "    trainAug.flow(trainX, trainY, batch_size=BS),\n",
    "    steps_per_epoch=len(trainX) // BS,\n",
    "    validation_data=(ValidX, ValidY),\n",
    "    validation_steps=len(ValidX) // BS,\n",
    "    epochs=EPOCHS)"
   ]
  },
  {
   "cell_type": "code",
   "execution_count": 201,
   "metadata": {},
   "outputs": [
    {
     "data": {
      "text/plain": [
       "<matplotlib.legend.Legend at 0x19b60aa3400>"
      ]
     },
     "execution_count": 201,
     "metadata": {},
     "output_type": "execute_result"
    },
    {
     "data": {
      "image/png": "[encoded data removed]",
      "text/plain": [
       "<Figure size 432x288 with 1 Axes>"
      ]
     },
     "metadata": {
      "needs_background": "light"
     },
     "output_type": "display_data"
    }
   ],
   "source": [
    "# plotting Accuracy\n",
    "plt.plot(history3.history['accuracy'], label='accuracy')\n",
    "plt.plot(history3.history['val_accuracy'], label = 'val_accuracy')\n",
    "plt.xlabel('Epoch')\n",
    "plt.ylabel('Accuracy')\n",
    "plt.legend(loc='lower right')"
   ]
  },
  {
   "cell_type": "code",
   "execution_count": 202,
   "metadata": {},
   "outputs": [
    {
     "data": {
      "text/plain": [
       "<matplotlib.legend.Legend at 0x19bc748b710>"
      ]
     },
     "execution_count": 202,
     "metadata": {},
     "output_type": "execute_result"
    },
    {
     "data": {
      "image/png": "[encoded data removed]",
      "text/plain": [
       "<Figure size 432x288 with 1 Axes>"
      ]
     },
     "metadata": {
      "needs_background": "light"
     },
     "output_type": "display_data"
    }
   ],
   "source": [
    "plt.plot(history3.history['loss'], label='loss')\n",
    "plt.plot(history3.history['val_loss'], label = 'val_loss')\n",
    "plt.xlabel('Epoch')\n",
    "plt.ylabel('Loss')\n",
    "plt.legend(loc='lower right')"
   ]
  },
  {
   "cell_type": "code",
   "execution_count": 203,
   "metadata": {},
   "outputs": [
    {
     "name": "stdout",
     "output_type": "stream",
     "text": [
      "28/28 [==============================] - 0s 3ms/sample - loss: 0.0115 - accuracy: 1.0000\n",
      "Test number  0  Prediction: [ 1.0   1.120762860296054e-08 ] Label:  [1. 0.]\n",
      "Test number  1  Prediction: [ 0.9999982118606567   1.732284886202251e-06 ] Label:  [1. 0.]\n",
      "Test number  2  Prediction: [ 1.0   1.464367915815501e-08 ] Label:  [1. 0.]\n",
      "Test number  3  Prediction: [ 0.9999979734420776   2.0256320567568764e-06 ] Label:  [1. 0.]\n",
      "Test number  4  Prediction: [ 1.0   8.307178056554676e-09 ] Label:  [1. 0.]\n",
      "Test number  5  Prediction: [ 0.9999998807907104   8.993758626729687e-08 ] Label:  [1. 0.]\n",
      "Test number  6  Prediction: [ 0.7347374558448792   0.26526254415512085 ] Label:  [1. 0.]\n",
      "Test number  7  Prediction: [ 0.9850446581840515   0.014955330640077591 ] Label:  [1. 0.]\n",
      "Test number  8  Prediction: [ 0.9999998807907104   1.7840315535977425e-07 ] Label:  [1. 0.]\n",
      "Test number  9  Prediction: [ 1.0   2.1151780327244296e-09 ] Label:  [1. 0.]\n",
      "Test number  10  Prediction: [ 1.0   4.150722077156388e-08 ] Label:  [1. 0.]\n",
      "Test number  11  Prediction: [ 0.9999974966049194   2.4814244170556776e-06 ] Label:  [1. 0.]\n",
      "Test number  12  Prediction: [ 0.9999998807907104   9.239884946055099e-08 ] Label:  [1. 0.]\n",
      "Test number  13  Prediction: [ 1.0   5.0968356646308166e-08 ] Label:  [1. 0.]\n",
      "Test number  14  Prediction: [ 1.8203291096696717e-09   1.0 ] Label:  [0. 1.]\n",
      "Test number  15  Prediction: [ 1.4220079974647248e-11   1.0 ] Label:  [0. 1.]\n",
      "Test number  16  Prediction: [ 2.894631165872852e-07   0.9999997615814209 ] Label:  [0. 1.]\n",
      "Test number  17  Prediction: [ 1.9777084137029277e-10   1.0 ] Label:  [0. 1.]\n",
      "Test number  18  Prediction: [ 4.909321282831058e-10   1.0 ] Label:  [0. 1.]\n",
      "Test number  19  Prediction: [ 6.415850073437923e-09   1.0 ] Label:  [0. 1.]\n",
      "Test number  20  Prediction: [ 5.518353329847514e-09   1.0 ] Label:  [0. 1.]\n",
      "Test number  21  Prediction: [ 5.703561928305234e-11   1.0 ] Label:  [0. 1.]\n",
      "Test number  22  Prediction: [ 2.5452116109159206e-11   1.0 ] Label:  [0. 1.]\n",
      "Test number  23  Prediction: [ 8.346509594581164e-11   1.0 ] Label:  [0. 1.]\n",
      "Test number  24  Prediction: [ 4.164706912668237e-10   1.0 ] Label:  [0. 1.]\n",
      "Test number  25  Prediction: [ 4.521615210251184e-06   0.9999954700469971 ] Label:  [0. 1.]\n",
      "Test number  26  Prediction: [ 4.6501449446623155e-07   0.9999995231628418 ] Label:  [0. 1.]\n",
      "Test number  27  Prediction: [ 5.820615864293721e-11   1.0 ] Label:  [0. 1.]\n"
     ]
    }
   ],
   "source": [
    "test_loss, test_acc = model.evaluate(testX,  testY)\n",
    "# showing the predictions on the test images (14 positive images and 14 negative images)\n",
    "Yhat=model.predict(testX)\n",
    "for i in range(len(testX)):\n",
    "    print(\"Test number \",i,\" Prediction: [\",float(Yhat[i][0]),\" \",float(Yhat[i][1]),\"] Label: \",testY[i]) "
   ]
  },
  {
   "cell_type": "code",
   "execution_count": null,
   "metadata": {},
   "outputs": [],
   "source": [
    "# Plotting all the 3 Neural network performances together\n",
    "plt.plot(history1.history['loss'], label='loss_CNN')\n",
    "plt.plot(history1.history['val_loss'], label = 'val_loss_CNN')\n",
    "plt.plot(history2.history['loss'], label='loss_VGG16')\n",
    "plt.plot(history2.history['val_loss'], label = 'val_loss_VGG16')\n",
    "plt.plot(history3.history['loss'], label='loss_ResNet50')\n",
    "plt.plot(history3.history['val_loss'], label = 'val_loss_ResNet50')\n",
    "plt.xlabel('Epoch')\n",
    "plt.ylabel('Loss')\n",
    "plt.legend(loc='lower right')"
   ]
  },
  {
   "cell_type": "code",
   "execution_count": 205,
   "metadata": {},
   "outputs": [
    {
     "data": {
      "text/plain": [
       "<matplotlib.legend.Legend at 0x19bc75cfcc0>"
      ]
     },
     "execution_count": 205,
     "metadata": {},
     "output_type": "execute_result"
    },
    {
     "data": {
      "image/png": "[encoded data removed]",
      "text/plain": [
       "<Figure size 432x288 with 1 Axes>"
      ]
     },
     "metadata": {
      "needs_background": "light"
     },
     "output_type": "display_data"
    }
   ],
   "source": [
    "# Plotting all the 3 Neural network performances together\n",
    "plt.plot(history1.history['accuracy'], label='loss_CNN')\n",
    "plt.plot(history1.history['val_accuracy'], label = 'val_loss_CNN')\n",
    "plt.plot(history2.history['accuracy'], label='loss_VGG16')\n",
    "plt.plot(history2.history['val_accuracy'], label = 'val_loss_VGG16')\n",
    "plt.plot(history3.history['accuracy'], label='loss_ResNet50')\n",
    "plt.plot(history3.history['val_accuracy'], label = 'val_loss_ResNet50')\n",
    "plt.xlabel('Epoch')\n",
    "plt.ylabel('Accuracy')\n",
    "plt.legend(loc='lower right')"
   ]
  },
  {
   "cell_type": "code",
   "execution_count": null,
   "metadata": {},
   "outputs": [],
   "source": []
  }
 ],
 "metadata": {
  "kernelspec": {
   "display_name": "Python 3",
   "language": "python",
   "name": "python3"
  },
  "language_info": {
   "codemirror_mode": {
    "name": "ipython",
    "version": 3
   },
   "file_extension": ".py",
   "mimetype": "text/x-python",
   "name": "python",
   "nbconvert_exporter": "python",
   "pygments_lexer": "ipython3",
   "version": "3.7.3"
  }
 },
 "nbformat": 4,
 "nbformat_minor": 2
}
